{
 "cells": [
  {
   "cell_type": "code",
   "execution_count": 135,
   "metadata": {
    "executionInfo": {
     "elapsed": 1488,
     "status": "ok",
     "timestamp": 1626957694408,
     "user": {
      "displayName": "RAMAKRISHNA SATLA",
      "photoUrl": "https://lh3.googleusercontent.com/a-/AOh14GijkeHKYzSfNjK58e35kmkpQSFt_uHWYIjdru_72Q=s64",
      "userId": "17543982960193299155"
     },
     "user_tz": -330
    },
    "id": "La6b3ZmUO6tk"
   },
   "outputs": [],
   "source": [
    "import numpy as np\n",
    "import pandas as pd\n",
    "import matplotlib.pyplot as plt\n",
    "import seaborn as sns\n",
    "from sklearn.model_selection import train_test_split\n",
    "from sklearn.ensemble import RandomForestClassifier\n",
    "from sklearn.metrics import accuracy_score"
   ]
  },
  {
   "cell_type": "code",
   "execution_count": 136,
   "metadata": {
    "colab": {
     "base_uri": "https://localhost:8080/",
     "height": 417
    },
    "executionInfo": {
     "elapsed": 560,
     "status": "ok",
     "timestamp": 1626957800036,
     "user": {
      "displayName": "RAMAKRISHNA SATLA",
      "photoUrl": "https://lh3.googleusercontent.com/a-/AOh14GijkeHKYzSfNjK58e35kmkpQSFt_uHWYIjdru_72Q=s64",
      "userId": "17543982960193299155"
     },
     "user_tz": -330
    },
    "id": "GeoaqSSiPAAq",
    "outputId": "22f226bd-60b3-4584-bc3f-1e21fa9c5385"
   },
   "outputs": [
    {
     "data": {
      "text/html": [
       "<div>\n",
       "<style scoped>\n",
       "    .dataframe tbody tr th:only-of-type {\n",
       "        vertical-align: middle;\n",
       "    }\n",
       "\n",
       "    .dataframe tbody tr th {\n",
       "        vertical-align: top;\n",
       "    }\n",
       "\n",
       "    .dataframe thead th {\n",
       "        text-align: right;\n",
       "    }\n",
       "</style>\n",
       "<table border=\"1\" class=\"dataframe\">\n",
       "  <thead>\n",
       "    <tr style=\"text-align: right;\">\n",
       "      <th></th>\n",
       "      <th>date</th>\n",
       "      <th>step_count</th>\n",
       "      <th>mood</th>\n",
       "      <th>calories_burned</th>\n",
       "      <th>hours_of_sleep</th>\n",
       "      <th>bool_of_active</th>\n",
       "      <th>weight_kg</th>\n",
       "    </tr>\n",
       "  </thead>\n",
       "  <tbody>\n",
       "    <tr>\n",
       "      <th>0</th>\n",
       "      <td>06-10-2017</td>\n",
       "      <td>5464</td>\n",
       "      <td>200</td>\n",
       "      <td>181</td>\n",
       "      <td>5</td>\n",
       "      <td>0</td>\n",
       "      <td>66</td>\n",
       "    </tr>\n",
       "    <tr>\n",
       "      <th>1</th>\n",
       "      <td>07-10-2017</td>\n",
       "      <td>6041</td>\n",
       "      <td>100</td>\n",
       "      <td>197</td>\n",
       "      <td>8</td>\n",
       "      <td>0</td>\n",
       "      <td>66</td>\n",
       "    </tr>\n",
       "    <tr>\n",
       "      <th>2</th>\n",
       "      <td>08-10-2017</td>\n",
       "      <td>25</td>\n",
       "      <td>100</td>\n",
       "      <td>0</td>\n",
       "      <td>5</td>\n",
       "      <td>0</td>\n",
       "      <td>66</td>\n",
       "    </tr>\n",
       "    <tr>\n",
       "      <th>3</th>\n",
       "      <td>09-10-2017</td>\n",
       "      <td>5461</td>\n",
       "      <td>100</td>\n",
       "      <td>174</td>\n",
       "      <td>4</td>\n",
       "      <td>0</td>\n",
       "      <td>66</td>\n",
       "    </tr>\n",
       "    <tr>\n",
       "      <th>4</th>\n",
       "      <td>10-10-2017</td>\n",
       "      <td>6915</td>\n",
       "      <td>200</td>\n",
       "      <td>223</td>\n",
       "      <td>5</td>\n",
       "      <td>500</td>\n",
       "      <td>66</td>\n",
       "    </tr>\n",
       "    <tr>\n",
       "      <th>...</th>\n",
       "      <td>...</td>\n",
       "      <td>...</td>\n",
       "      <td>...</td>\n",
       "      <td>...</td>\n",
       "      <td>...</td>\n",
       "      <td>...</td>\n",
       "      <td>...</td>\n",
       "    </tr>\n",
       "    <tr>\n",
       "      <th>667</th>\n",
       "      <td>04-08-2019</td>\n",
       "      <td>133</td>\n",
       "      <td>100</td>\n",
       "      <td>4</td>\n",
       "      <td>3</td>\n",
       "      <td>0</td>\n",
       "      <td>64</td>\n",
       "    </tr>\n",
       "    <tr>\n",
       "      <th>668</th>\n",
       "      <td>05-08-2019</td>\n",
       "      <td>153</td>\n",
       "      <td>300</td>\n",
       "      <td>4</td>\n",
       "      <td>8</td>\n",
       "      <td>0</td>\n",
       "      <td>64</td>\n",
       "    </tr>\n",
       "    <tr>\n",
       "      <th>669</th>\n",
       "      <td>06-08-2019</td>\n",
       "      <td>500</td>\n",
       "      <td>200</td>\n",
       "      <td>7</td>\n",
       "      <td>5</td>\n",
       "      <td>500</td>\n",
       "      <td>64</td>\n",
       "    </tr>\n",
       "    <tr>\n",
       "      <th>670</th>\n",
       "      <td>07-08-2019</td>\n",
       "      <td>2127</td>\n",
       "      <td>200</td>\n",
       "      <td>87</td>\n",
       "      <td>5</td>\n",
       "      <td>0</td>\n",
       "      <td>64</td>\n",
       "    </tr>\n",
       "    <tr>\n",
       "      <th>671</th>\n",
       "      <td>08-08-2019</td>\n",
       "      <td>2203</td>\n",
       "      <td>300</td>\n",
       "      <td>98</td>\n",
       "      <td>5</td>\n",
       "      <td>500</td>\n",
       "      <td>64</td>\n",
       "    </tr>\n",
       "  </tbody>\n",
       "</table>\n",
       "<p>672 rows × 7 columns</p>\n",
       "</div>"
      ],
      "text/plain": [
       "           date  step_count  mood  calories_burned  hours_of_sleep  \\\n",
       "0    06-10-2017        5464   200              181               5   \n",
       "1    07-10-2017        6041   100              197               8   \n",
       "2    08-10-2017          25   100                0               5   \n",
       "3    09-10-2017        5461   100              174               4   \n",
       "4    10-10-2017        6915   200              223               5   \n",
       "..          ...         ...   ...              ...             ...   \n",
       "667  04-08-2019         133   100                4               3   \n",
       "668  05-08-2019         153   300                4               8   \n",
       "669  06-08-2019         500   200                7               5   \n",
       "670  07-08-2019        2127   200               87               5   \n",
       "671  08-08-2019        2203   300               98               5   \n",
       "\n",
       "     bool_of_active  weight_kg  \n",
       "0                 0         66  \n",
       "1                 0         66  \n",
       "2                 0         66  \n",
       "3                 0         66  \n",
       "4               500         66  \n",
       "..              ...        ...  \n",
       "667               0         64  \n",
       "668               0         64  \n",
       "669             500         64  \n",
       "670               0         64  \n",
       "671             500         64  \n",
       "\n",
       "[672 rows x 7 columns]"
      ]
     },
     "execution_count": 136,
     "metadata": {},
     "output_type": "execute_result"
    }
   ],
   "source": [
    "df = pd.read_csv(r\"C:\\PROGRAMMING\\PROJECT\\Body-Fitness-Prediction-master\\DataSet\\BodyFitnessPrediction.CSV \")\n",
    "df"
   ]
  },
  {
   "cell_type": "markdown",
   "metadata": {},
   "source": [
    "# Exploratory Data Analysis"
   ]
  },
  {
   "cell_type": "code",
   "execution_count": 137,
   "metadata": {},
   "outputs": [
    {
     "data": {
      "text/plain": [
       "(672, 7)"
      ]
     },
     "execution_count": 137,
     "metadata": {},
     "output_type": "execute_result"
    }
   ],
   "source": [
    "df.shape"
   ]
  },
  {
   "cell_type": "code",
   "execution_count": 138,
   "metadata": {},
   "outputs": [
    {
     "data": {
      "text/plain": [
       "Index(['date', 'step_count', 'mood', 'calories_burned', 'hours_of_sleep',\n",
       "       'bool_of_active', 'weight_kg'],\n",
       "      dtype='object')"
      ]
     },
     "execution_count": 138,
     "metadata": {},
     "output_type": "execute_result"
    }
   ],
   "source": [
    "df.columns"
   ]
  },
  {
   "cell_type": "code",
   "execution_count": 139,
   "metadata": {},
   "outputs": [
    {
     "name": "stdout",
     "output_type": "stream",
     "text": [
      "<class 'pandas.core.frame.DataFrame'>\n",
      "RangeIndex: 672 entries, 0 to 671\n",
      "Data columns (total 7 columns):\n",
      " #   Column           Non-Null Count  Dtype \n",
      "---  ------           --------------  ----- \n",
      " 0   date             672 non-null    object\n",
      " 1   step_count       672 non-null    int64 \n",
      " 2   mood             672 non-null    int64 \n",
      " 3   calories_burned  672 non-null    int64 \n",
      " 4   hours_of_sleep   672 non-null    int64 \n",
      " 5   bool_of_active   672 non-null    int64 \n",
      " 6   weight_kg        672 non-null    int64 \n",
      "dtypes: int64(6), object(1)\n",
      "memory usage: 36.9+ KB\n"
     ]
    }
   ],
   "source": [
    "df.info()"
   ]
  },
  {
   "cell_type": "code",
   "execution_count": 140,
   "metadata": {},
   "outputs": [
    {
     "data": {
      "text/plain": [
       "date               672\n",
       "step_count         672\n",
       "mood               672\n",
       "calories_burned    672\n",
       "hours_of_sleep     672\n",
       "bool_of_active     672\n",
       "weight_kg          672\n",
       "dtype: int64"
      ]
     },
     "execution_count": 140,
     "metadata": {},
     "output_type": "execute_result"
    }
   ],
   "source": [
    "df.count()"
   ]
  },
  {
   "cell_type": "code",
   "execution_count": 141,
   "metadata": {},
   "outputs": [
    {
     "data": {
      "text/plain": [
       "date               object\n",
       "step_count          int64\n",
       "mood                int64\n",
       "calories_burned     int64\n",
       "hours_of_sleep      int64\n",
       "bool_of_active      int64\n",
       "weight_kg           int64\n",
       "dtype: object"
      ]
     },
     "execution_count": 141,
     "metadata": {},
     "output_type": "execute_result"
    }
   ],
   "source": [
    "df.dtypes"
   ]
  },
  {
   "cell_type": "code",
   "execution_count": 142,
   "metadata": {},
   "outputs": [
    {
     "data": {
      "text/plain": [
       "array([200, 100, 300], dtype=int64)"
      ]
     },
     "execution_count": 142,
     "metadata": {},
     "output_type": "execute_result"
    }
   ],
   "source": [
    "df['mood'].unique()"
   ]
  },
  {
   "cell_type": "code",
   "execution_count": 143,
   "metadata": {},
   "outputs": [
    {
     "data": {
      "text/plain": [
       "array([66, 65, 64], dtype=int64)"
      ]
     },
     "execution_count": 143,
     "metadata": {},
     "output_type": "execute_result"
    }
   ],
   "source": [
    "df['weight_kg'].unique()"
   ]
  },
  {
   "cell_type": "code",
   "execution_count": 144,
   "metadata": {},
   "outputs": [
    {
     "data": {
      "text/plain": [
       "array([66, 65, 64], dtype=int64)"
      ]
     },
     "execution_count": 144,
     "metadata": {},
     "output_type": "execute_result"
    }
   ],
   "source": [
    "df['weight_kg'].unique()"
   ]
  },
  {
   "cell_type": "code",
   "execution_count": 145,
   "metadata": {},
   "outputs": [
    {
     "data": {
      "text/html": [
       "<div>\n",
       "<style scoped>\n",
       "    .dataframe tbody tr th:only-of-type {\n",
       "        vertical-align: middle;\n",
       "    }\n",
       "\n",
       "    .dataframe tbody tr th {\n",
       "        vertical-align: top;\n",
       "    }\n",
       "\n",
       "    .dataframe thead th {\n",
       "        text-align: right;\n",
       "    }\n",
       "</style>\n",
       "<table border=\"1\" class=\"dataframe\">\n",
       "  <thead>\n",
       "    <tr style=\"text-align: right;\">\n",
       "      <th></th>\n",
       "      <th>step_count</th>\n",
       "      <th>mood</th>\n",
       "      <th>calories_burned</th>\n",
       "      <th>hours_of_sleep</th>\n",
       "      <th>bool_of_active</th>\n",
       "      <th>weight_kg</th>\n",
       "    </tr>\n",
       "  </thead>\n",
       "  <tbody>\n",
       "    <tr>\n",
       "      <th>step_count</th>\n",
       "      <td>1.000000</td>\n",
       "      <td>0.278707</td>\n",
       "      <td>0.988923</td>\n",
       "      <td>0.155378</td>\n",
       "      <td>0.200615</td>\n",
       "      <td>0.103676</td>\n",
       "    </tr>\n",
       "    <tr>\n",
       "      <th>mood</th>\n",
       "      <td>0.278707</td>\n",
       "      <td>1.000000</td>\n",
       "      <td>0.268624</td>\n",
       "      <td>0.210364</td>\n",
       "      <td>0.407431</td>\n",
       "      <td>-0.402624</td>\n",
       "    </tr>\n",
       "    <tr>\n",
       "      <th>calories_burned</th>\n",
       "      <td>0.988923</td>\n",
       "      <td>0.268624</td>\n",
       "      <td>1.000000</td>\n",
       "      <td>0.152027</td>\n",
       "      <td>0.188440</td>\n",
       "      <td>0.107179</td>\n",
       "    </tr>\n",
       "    <tr>\n",
       "      <th>hours_of_sleep</th>\n",
       "      <td>0.155378</td>\n",
       "      <td>0.210364</td>\n",
       "      <td>0.152027</td>\n",
       "      <td>1.000000</td>\n",
       "      <td>0.142538</td>\n",
       "      <td>0.150635</td>\n",
       "    </tr>\n",
       "    <tr>\n",
       "      <th>bool_of_active</th>\n",
       "      <td>0.200615</td>\n",
       "      <td>0.407431</td>\n",
       "      <td>0.188440</td>\n",
       "      <td>0.142538</td>\n",
       "      <td>1.000000</td>\n",
       "      <td>-0.292042</td>\n",
       "    </tr>\n",
       "    <tr>\n",
       "      <th>weight_kg</th>\n",
       "      <td>0.103676</td>\n",
       "      <td>-0.402624</td>\n",
       "      <td>0.107179</td>\n",
       "      <td>0.150635</td>\n",
       "      <td>-0.292042</td>\n",
       "      <td>1.000000</td>\n",
       "    </tr>\n",
       "  </tbody>\n",
       "</table>\n",
       "</div>"
      ],
      "text/plain": [
       "                 step_count      mood  calories_burned  hours_of_sleep  \\\n",
       "step_count         1.000000  0.278707         0.988923        0.155378   \n",
       "mood               0.278707  1.000000         0.268624        0.210364   \n",
       "calories_burned    0.988923  0.268624         1.000000        0.152027   \n",
       "hours_of_sleep     0.155378  0.210364         0.152027        1.000000   \n",
       "bool_of_active     0.200615  0.407431         0.188440        0.142538   \n",
       "weight_kg          0.103676 -0.402624         0.107179        0.150635   \n",
       "\n",
       "                 bool_of_active  weight_kg  \n",
       "step_count             0.200615   0.103676  \n",
       "mood                   0.407431  -0.402624  \n",
       "calories_burned        0.188440   0.107179  \n",
       "hours_of_sleep         0.142538   0.150635  \n",
       "bool_of_active         1.000000  -0.292042  \n",
       "weight_kg             -0.292042   1.000000  "
      ]
     },
     "execution_count": 145,
     "metadata": {},
     "output_type": "execute_result"
    }
   ],
   "source": [
    "df.corr()"
   ]
  },
  {
   "cell_type": "markdown",
   "metadata": {},
   "source": [
    "\n",
    "Observations :\n",
    "\n",
    "1:We can observe that there is a high positive correlation between the step_count and calories_burned (r = 0.98) indicating a strong correlation.\n",
    "2:There is also a negative and moderate correlation between mood and body_weight (r = -0.40) and a moderate positive correlation between the feeling_of_active and mood (r = 0.41)."
   ]
  },
  {
   "cell_type": "markdown",
   "metadata": {},
   "source": [
    "# Data Visualization :Univariate Analysis"
   ]
  },
  {
   "cell_type": "code",
   "execution_count": 146,
   "metadata": {},
   "outputs": [
    {
     "data": {
      "text/plain": [
       "<AxesSubplot:>"
      ]
     },
     "execution_count": 146,
     "metadata": {},
     "output_type": "execute_result"
    },
    {
     "data": {
      "image/png": "[encoded data removed]",
      "text/plain": [
       "<Figure size 432x288 with 1 Axes>"
      ]
     },
     "metadata": {},
     "output_type": "display_data"
    }
   ],
   "source": [
    "df['step_count'].hist() "
   ]
  },
  {
   "cell_type": "code",
   "execution_count": 147,
   "metadata": {},
   "outputs": [
    {
     "name": "stderr",
     "output_type": "stream",
     "text": [
      "C:\\Users\\Sai Deepak\\anaconda3\\lib\\site-packages\\seaborn\\distributions.py:2557: FutureWarning: `distplot` is a deprecated function and will be removed in a future version. Please adapt your code to use either `displot` (a figure-level function with similar flexibility) or `histplot` (an axes-level function for histograms).\n",
      "  warnings.warn(msg, FutureWarning)\n"
     ]
    },
    {
     "data": {
      "text/plain": [
       "<AxesSubplot:xlabel='step_count', ylabel='Density'>"
      ]
     },
     "execution_count": 147,
     "metadata": {},
     "output_type": "execute_result"
    },
    {
     "data": {
      "image/png": "[encoded data removed]",
      "text/plain": [
       "<Figure size 432x288 with 1 Axes>"
      ]
     },
     "metadata": {},
     "output_type": "display_data"
    }
   ],
   "source": [
    "sns.distplot(df['step_count'])"
   ]
  },
  {
   "cell_type": "code",
   "execution_count": 148,
   "metadata": {},
   "outputs": [
    {
     "data": {
      "text/plain": [
       "<AxesSubplot:>"
      ]
     },
     "execution_count": 148,
     "metadata": {},
     "output_type": "execute_result"
    },
    {
     "data": {
      "image/png": "[encoded data removed]",
      "text/plain": [
       "<Figure size 432x288 with 1 Axes>"
      ]
     },
     "metadata": {},
     "output_type": "display_data"
    }
   ],
   "source": [
    "df['calories_burned'].hist()"
   ]
  },
  {
   "cell_type": "code",
   "execution_count": 149,
   "metadata": {},
   "outputs": [
    {
     "name": "stderr",
     "output_type": "stream",
     "text": [
      "C:\\Users\\Sai Deepak\\anaconda3\\lib\\site-packages\\seaborn\\distributions.py:2557: FutureWarning: `distplot` is a deprecated function and will be removed in a future version. Please adapt your code to use either `displot` (a figure-level function with similar flexibility) or `histplot` (an axes-level function for histograms).\n",
      "  warnings.warn(msg, FutureWarning)\n"
     ]
    },
    {
     "data": {
      "text/plain": [
       "<AxesSubplot:xlabel='calories_burned', ylabel='Density'>"
      ]
     },
     "execution_count": 149,
     "metadata": {},
     "output_type": "execute_result"
    },
    {
     "data": {
      "image/png": "[encoded data removed]",
      "text/plain": [
       "<Figure size 432x288 with 1 Axes>"
      ]
     },
     "metadata": {},
     "output_type": "display_data"
    }
   ],
   "source": [
    "sns.distplot(df['calories_burned'])"
   ]
  },
  {
   "cell_type": "code",
   "execution_count": 150,
   "metadata": {},
   "outputs": [
    {
     "data": {
      "text/plain": [
       "<AxesSubplot:>"
      ]
     },
     "execution_count": 150,
     "metadata": {},
     "output_type": "execute_result"
    },
    {
     "data": {
      "image/png": "[encoded data removed]",
      "text/plain": [
       "<Figure size 432x288 with 1 Axes>"
      ]
     },
     "metadata": {},
     "output_type": "display_data"
    }
   ],
   "source": [
    "\n",
    "df['weight_kg'].hist()"
   ]
  },
  {
   "cell_type": "code",
   "execution_count": 151,
   "metadata": {},
   "outputs": [
    {
     "data": {
      "text/plain": [
       "64    557\n",
       "65     59\n",
       "66     56\n",
       "Name: weight_kg, dtype: int64"
      ]
     },
     "execution_count": 151,
     "metadata": {},
     "output_type": "execute_result"
    }
   ],
   "source": [
    "df['weight_kg'].value_counts()"
   ]
  },
  {
   "cell_type": "code",
   "execution_count": 152,
   "metadata": {},
   "outputs": [
    {
     "data": {
      "text/plain": [
       "<AxesSubplot:>"
      ]
     },
     "execution_count": 152,
     "metadata": {},
     "output_type": "execute_result"
    },
    {
     "data": {
      "image/png": "[encoded data removed]",
      "text/plain": [
       "<Figure size 432x288 with 1 Axes>"
      ]
     },
     "metadata": {},
     "output_type": "display_data"
    }
   ],
   "source": [
    "df['hours_of_sleep'].hist() "
   ]
  },
  {
   "cell_type": "code",
   "execution_count": 153,
   "metadata": {},
   "outputs": [
    {
     "data": {
      "text/plain": [
       "<AxesSubplot:>"
      ]
     },
     "execution_count": 153,
     "metadata": {},
     "output_type": "execute_result"
    },
    {
     "data": {
      "image/png": "[encoded data removed]",
      "text/plain": [
       "<Figure size 432x288 with 2 Axes>"
      ]
     },
     "metadata": {},
     "output_type": "display_data"
    }
   ],
   "source": [
    "corr=df.corr()\n",
    "sns.heatmap(corr,xticklabels=corr.columns,yticklabels=corr.columns)  #Heatmap"
   ]
  },
  {
   "cell_type": "code",
   "execution_count": 154,
   "metadata": {},
   "outputs": [
    {
     "data": {
      "text/plain": [
       "<AxesSubplot:xlabel='step_count', ylabel='calories_burned'>"
      ]
     },
     "execution_count": 154,
     "metadata": {},
     "output_type": "execute_result"
    },
    {
     "data": {
      "image/png": "[encoded data removed]",
      "text/plain": [
       "<Figure size 432x288 with 1 Axes>"
      ]
     },
     "metadata": {},
     "output_type": "display_data"
    }
   ],
   "source": [
    "sns.regplot(x='step_count', y='calories_burned', data=df,color='r')"
   ]
  },
  {
   "cell_type": "code",
   "execution_count": 155,
   "metadata": {},
   "outputs": [
    {
     "data": {
      "text/plain": [
       "<AxesSubplot:xlabel='weight_kg', ylabel='mood'>"
      ]
     },
     "execution_count": 155,
     "metadata": {},
     "output_type": "execute_result"
    },
    {
     "data": {
      "image/png": "[encoded data removed]",
      "text/plain": [
       "<Figure size 432x288 with 1 Axes>"
      ]
     },
     "metadata": {},
     "output_type": "display_data"
    }
   ],
   "source": [
    "sns.regplot(x='weight_kg', y='mood', data=df,color='g')  #Regression plot between weight_kg and mood"
   ]
  },
  {
   "cell_type": "code",
   "execution_count": 156,
   "metadata": {},
   "outputs": [
    {
     "data": {
      "text/plain": [
       "<AxesSubplot:xlabel='mood', ylabel='bool_of_active'>"
      ]
     },
     "execution_count": 156,
     "metadata": {},
     "output_type": "execute_result"
    },
    {
     "data": {
      "image/png": "[encoded data removed]",
      "text/plain": [
       "<Figure size 432x288 with 1 Axes>"
      ]
     },
     "metadata": {},
     "output_type": "display_data"
    }
   ],
   "source": [
    "sns.regplot(x='mood', y='bool_of_active', data=df,color='b')  #Regression plot between mood and bool_of_active"
   ]
  },
  {
   "cell_type": "raw",
   "metadata": {},
   "source": [
    "Here mood and bool_of_active are categorical variables.\n",
    "So we cannot decide correlation by simply seeing regression between these variables"
   ]
  },
  {
   "cell_type": "code",
   "execution_count": 157,
   "metadata": {},
   "outputs": [
    {
     "data": {
      "text/plain": [
       "<seaborn.axisgrid.PairGrid at 0x226d4120400>"
      ]
     },
     "execution_count": 157,
     "metadata": {},
     "output_type": "execute_result"
    },
    {
     "data": {
      "image/png": "[encoded data removed]",
      "text/plain": [
       "<Figure size 1080x1080 with 42 Axes>"
      ]
     },
     "metadata": {},
     "output_type": "display_data"
    }
   ],
   "source": [
    "sns.set_style(\"whitegrid\")\n",
    "sns.pairplot(df)  #scatterplot of all variables"
   ]
  },
  {
   "cell_type": "markdown",
   "metadata": {},
   "source": [
    "# Bivariate Analysis"
   ]
  },
  {
   "cell_type": "code",
   "execution_count": 158,
   "metadata": {},
   "outputs": [
    {
     "data": {
      "text/html": [
       "<div>\n",
       "<style scoped>\n",
       "    .dataframe tbody tr th:only-of-type {\n",
       "        vertical-align: middle;\n",
       "    }\n",
       "\n",
       "    .dataframe tbody tr th {\n",
       "        vertical-align: top;\n",
       "    }\n",
       "\n",
       "    .dataframe thead th {\n",
       "        text-align: right;\n",
       "    }\n",
       "</style>\n",
       "<table border=\"1\" class=\"dataframe\">\n",
       "  <thead>\n",
       "    <tr style=\"text-align: right;\">\n",
       "      <th></th>\n",
       "      <th>count</th>\n",
       "      <th>mean</th>\n",
       "      <th>std</th>\n",
       "      <th>min</th>\n",
       "      <th>25%</th>\n",
       "      <th>50%</th>\n",
       "      <th>75%</th>\n",
       "      <th>max</th>\n",
       "    </tr>\n",
       "    <tr>\n",
       "      <th>mood</th>\n",
       "      <th></th>\n",
       "      <th></th>\n",
       "      <th></th>\n",
       "      <th></th>\n",
       "      <th></th>\n",
       "      <th></th>\n",
       "      <th></th>\n",
       "      <th></th>\n",
       "    </tr>\n",
       "  </thead>\n",
       "  <tbody>\n",
       "    <tr>\n",
       "      <th>100</th>\n",
       "      <td>182.0</td>\n",
       "      <td>1990.126374</td>\n",
       "      <td>1970.094038</td>\n",
       "      <td>25.0</td>\n",
       "      <td>299.0</td>\n",
       "      <td>1230.0</td>\n",
       "      <td>3586.0</td>\n",
       "      <td>6999.0</td>\n",
       "    </tr>\n",
       "    <tr>\n",
       "      <th>200</th>\n",
       "      <td>179.0</td>\n",
       "      <td>3027.094972</td>\n",
       "      <td>2140.411734</td>\n",
       "      <td>25.0</td>\n",
       "      <td>1163.0</td>\n",
       "      <td>2909.0</td>\n",
       "      <td>4390.5</td>\n",
       "      <td>8109.0</td>\n",
       "    </tr>\n",
       "    <tr>\n",
       "      <th>300</th>\n",
       "      <td>311.0</td>\n",
       "      <td>3469.594855</td>\n",
       "      <td>2076.114290</td>\n",
       "      <td>111.0</td>\n",
       "      <td>1425.0</td>\n",
       "      <td>4033.0</td>\n",
       "      <td>4880.0</td>\n",
       "      <td>7543.0</td>\n",
       "    </tr>\n",
       "  </tbody>\n",
       "</table>\n",
       "</div>"
      ],
      "text/plain": [
       "      count         mean          std    min     25%     50%     75%     max\n",
       "mood                                                                        \n",
       "100   182.0  1990.126374  1970.094038   25.0   299.0  1230.0  3586.0  6999.0\n",
       "200   179.0  3027.094972  2140.411734   25.0  1163.0  2909.0  4390.5  8109.0\n",
       "300   311.0  3469.594855  2076.114290  111.0  1425.0  4033.0  4880.0  7543.0"
      ]
     },
     "execution_count": 158,
     "metadata": {},
     "output_type": "execute_result"
    }
   ],
   "source": [
    "#Average_descriptive statistics of step count by mood category (100 = sad, 200 = neutral and 300 = happy)\n",
    "df.step_count.groupby(df.mood).describe()"
   ]
  },
  {
   "cell_type": "code",
   "execution_count": 159,
   "metadata": {},
   "outputs": [
    {
     "data": {
      "text/plain": [
       "<Figure size 432x360 with 0 Axes>"
      ]
     },
     "execution_count": 159,
     "metadata": {},
     "output_type": "execute_result"
    },
    {
     "data": {
      "image/png": "[encoded data removed]",
      "text/plain": [
       "<Figure size 432x288 with 1 Axes>"
      ]
     },
     "metadata": {},
     "output_type": "display_data"
    },
    {
     "data": {
      "text/plain": [
       "<Figure size 432x360 with 0 Axes>"
      ]
     },
     "metadata": {},
     "output_type": "display_data"
    }
   ],
   "source": [
    "# bar chart showing the distribution of the step count by mood category (100 = sad, 200 = neutral and 300 = happy)\n",
    "sns.barplot(x = \"mood\", y=\"step_count\", data = df)\n",
    "plt.title('Graph 1. Comparison of step count by mood perception')\n",
    "plt.legend(['100 = Sad', '200 = Neutral', '300 = Happy'], loc='upper left', prop={'size': 7})\n",
    "plt.figure(figsize=(6,5))"
   ]
  },
  {
   "cell_type": "markdown",
   "metadata": {},
   "source": [
    "# Step Count vs Activeness"
   ]
  },
  {
   "cell_type": "code",
   "execution_count": 160,
   "metadata": {},
   "outputs": [
    {
     "data": {
      "text/html": [
       "<div>\n",
       "<style scoped>\n",
       "    .dataframe tbody tr th:only-of-type {\n",
       "        vertical-align: middle;\n",
       "    }\n",
       "\n",
       "    .dataframe tbody tr th {\n",
       "        vertical-align: top;\n",
       "    }\n",
       "\n",
       "    .dataframe thead th {\n",
       "        text-align: right;\n",
       "    }\n",
       "</style>\n",
       "<table border=\"1\" class=\"dataframe\">\n",
       "  <thead>\n",
       "    <tr style=\"text-align: right;\">\n",
       "      <th></th>\n",
       "      <th>count</th>\n",
       "      <th>mean</th>\n",
       "      <th>std</th>\n",
       "      <th>min</th>\n",
       "      <th>25%</th>\n",
       "      <th>50%</th>\n",
       "      <th>75%</th>\n",
       "      <th>max</th>\n",
       "    </tr>\n",
       "    <tr>\n",
       "      <th>bool_of_active</th>\n",
       "      <th></th>\n",
       "      <th></th>\n",
       "      <th></th>\n",
       "      <th></th>\n",
       "      <th></th>\n",
       "      <th></th>\n",
       "      <th></th>\n",
       "      <th></th>\n",
       "    </tr>\n",
       "  </thead>\n",
       "  <tbody>\n",
       "    <tr>\n",
       "      <th>0</th>\n",
       "      <td>364.0</td>\n",
       "      <td>2554.241758</td>\n",
       "      <td>1996.747594</td>\n",
       "      <td>25.0</td>\n",
       "      <td>546.0</td>\n",
       "      <td>2255.0</td>\n",
       "      <td>4340.0</td>\n",
       "      <td>6930.0</td>\n",
       "    </tr>\n",
       "    <tr>\n",
       "      <th>500</th>\n",
       "      <td>308.0</td>\n",
       "      <td>3419.977273</td>\n",
       "      <td>2235.748340</td>\n",
       "      <td>221.0</td>\n",
       "      <td>1163.0</td>\n",
       "      <td>3608.0</td>\n",
       "      <td>5000.5</td>\n",
       "      <td>8109.0</td>\n",
       "    </tr>\n",
       "  </tbody>\n",
       "</table>\n",
       "</div>"
      ],
      "text/plain": [
       "                count         mean          std    min     25%     50%  \\\n",
       "bool_of_active                                                           \n",
       "0               364.0  2554.241758  1996.747594   25.0   546.0  2255.0   \n",
       "500             308.0  3419.977273  2235.748340  221.0  1163.0  3608.0   \n",
       "\n",
       "                   75%     max  \n",
       "bool_of_active                  \n",
       "0               4340.0  6930.0  \n",
       "500             5000.5  8109.0  "
      ]
     },
     "execution_count": 160,
     "metadata": {},
     "output_type": "execute_result"
    }
   ],
   "source": [
    "#Average descriptive statistics_ of step count by Activeness (0 = inactive and 500 = active)\n",
    "df.step_count.groupby(df.bool_of_active).describe()"
   ]
  },
  {
   "cell_type": "code",
   "execution_count": 161,
   "metadata": {},
   "outputs": [
    {
     "data": {
      "text/plain": [
       "<Figure size 432x360 with 0 Axes>"
      ]
     },
     "execution_count": 161,
     "metadata": {},
     "output_type": "execute_result"
    },
    {
     "data": {
      "image/png": "[encoded data removed]",
      "text/plain": [
       "<Figure size 432x288 with 1 Axes>"
      ]
     },
     "metadata": {},
     "output_type": "display_data"
    },
    {
     "data": {
      "text/plain": [
       "<Figure size 432x360 with 0 Axes>"
      ]
     },
     "metadata": {},
     "output_type": "display_data"
    }
   ],
   "source": [
    "# bar chart showing the distribution of step count by category of Activeness (0 = inactive and 500 = active)\n",
    "sns.barplot(x = \"bool_of_active\", y=\"step_count\", data = df)\n",
    "plt.title('Graph 1. Comparison of step count by mood perception')\n",
    "plt.legend(['0 = Inactive', '500 = Active'], loc='upper left', prop={'size': 7})\n",
    "plt.figure(figsize=(6,5))"
   ]
  },
  {
   "cell_type": "markdown",
   "metadata": {},
   "source": [
    "# 3. Calories Burned vs Mood"
   ]
  },
  {
   "cell_type": "code",
   "execution_count": 162,
   "metadata": {},
   "outputs": [
    {
     "data": {
      "text/html": [
       "<div>\n",
       "<style scoped>\n",
       "    .dataframe tbody tr th:only-of-type {\n",
       "        vertical-align: middle;\n",
       "    }\n",
       "\n",
       "    .dataframe tbody tr th {\n",
       "        vertical-align: top;\n",
       "    }\n",
       "\n",
       "    .dataframe thead th {\n",
       "        text-align: right;\n",
       "    }\n",
       "</style>\n",
       "<table border=\"1\" class=\"dataframe\">\n",
       "  <thead>\n",
       "    <tr style=\"text-align: right;\">\n",
       "      <th></th>\n",
       "      <th>count</th>\n",
       "      <th>mean</th>\n",
       "      <th>std</th>\n",
       "      <th>min</th>\n",
       "      <th>25%</th>\n",
       "      <th>50%</th>\n",
       "      <th>75%</th>\n",
       "      <th>max</th>\n",
       "    </tr>\n",
       "    <tr>\n",
       "      <th>mood</th>\n",
       "      <th></th>\n",
       "      <th></th>\n",
       "      <th></th>\n",
       "      <th></th>\n",
       "      <th></th>\n",
       "      <th></th>\n",
       "      <th></th>\n",
       "      <th></th>\n",
       "    </tr>\n",
       "  </thead>\n",
       "  <tbody>\n",
       "    <tr>\n",
       "      <th>100</th>\n",
       "      <td>182.0</td>\n",
       "      <td>66.252747</td>\n",
       "      <td>65.101042</td>\n",
       "      <td>0.0</td>\n",
       "      <td>11.0</td>\n",
       "      <td>38.5</td>\n",
       "      <td>122.75</td>\n",
       "      <td>243.0</td>\n",
       "    </tr>\n",
       "    <tr>\n",
       "      <th>200</th>\n",
       "      <td>179.0</td>\n",
       "      <td>97.474860</td>\n",
       "      <td>72.416424</td>\n",
       "      <td>0.0</td>\n",
       "      <td>33.5</td>\n",
       "      <td>98.0</td>\n",
       "      <td>147.50</td>\n",
       "      <td>254.0</td>\n",
       "    </tr>\n",
       "    <tr>\n",
       "      <th>300</th>\n",
       "      <td>311.0</td>\n",
       "      <td>113.610932</td>\n",
       "      <td>69.837275</td>\n",
       "      <td>0.0</td>\n",
       "      <td>43.5</td>\n",
       "      <td>132.0</td>\n",
       "      <td>165.00</td>\n",
       "      <td>253.0</td>\n",
       "    </tr>\n",
       "  </tbody>\n",
       "</table>\n",
       "</div>"
      ],
      "text/plain": [
       "      count        mean        std  min   25%    50%     75%    max\n",
       "mood                                                               \n",
       "100   182.0   66.252747  65.101042  0.0  11.0   38.5  122.75  243.0\n",
       "200   179.0   97.474860  72.416424  0.0  33.5   98.0  147.50  254.0\n",
       "300   311.0  113.610932  69.837275  0.0  43.5  132.0  165.00  253.0"
      ]
     },
     "execution_count": 162,
     "metadata": {},
     "output_type": "execute_result"
    }
   ],
   "source": [
    "#Average descriptive statistics of CALORIES SPENT by mood category (100 = sad, 200 = neutral and 300 = happy)\n",
    "df.calories_burned.groupby(df.mood).describe()"
   ]
  },
  {
   "cell_type": "code",
   "execution_count": 163,
   "metadata": {},
   "outputs": [
    {
     "data": {
      "text/plain": [
       "<Figure size 432x360 with 0 Axes>"
      ]
     },
     "execution_count": 163,
     "metadata": {},
     "output_type": "execute_result"
    },
    {
     "data": {
      "image/png": "[encoded data removed]",
      "text/plain": [
       "<Figure size 432x288 with 1 Axes>"
      ]
     },
     "metadata": {},
     "output_type": "display_data"
    },
    {
     "data": {
      "text/plain": [
       "<Figure size 432x360 with 0 Axes>"
      ]
     },
     "metadata": {},
     "output_type": "display_data"
    }
   ],
   "source": [
    "# bar chart showing the distribution of SPENDED CALORIES by mood category (100 = sad, 200 = neutral and 300 = happy)\n",
    "sns.barplot(x = \"mood\", y=\"calories_burned\", data = df)\n",
    "plt.title('Graph 1. Comparison of calories expended by mood perception')\n",
    "plt.legend(['100 = Sad', '200 = Neutral', '300 = Happy'], loc='upper left', prop={'size': 7})\n",
    "plt.figure(figsize=(6,5))"
   ]
  },
  {
   "cell_type": "markdown",
   "metadata": {},
   "source": [
    "# Calories Burned vs Activeness"
   ]
  },
  {
   "cell_type": "code",
   "execution_count": 164,
   "metadata": {},
   "outputs": [
    {
     "data": {
      "text/html": [
       "<div>\n",
       "<style scoped>\n",
       "    .dataframe tbody tr th:only-of-type {\n",
       "        vertical-align: middle;\n",
       "    }\n",
       "\n",
       "    .dataframe tbody tr th {\n",
       "        vertical-align: top;\n",
       "    }\n",
       "\n",
       "    .dataframe thead th {\n",
       "        text-align: right;\n",
       "    }\n",
       "</style>\n",
       "<table border=\"1\" class=\"dataframe\">\n",
       "  <thead>\n",
       "    <tr style=\"text-align: right;\">\n",
       "      <th></th>\n",
       "      <th>count</th>\n",
       "      <th>mean</th>\n",
       "      <th>std</th>\n",
       "      <th>min</th>\n",
       "      <th>25%</th>\n",
       "      <th>50%</th>\n",
       "      <th>75%</th>\n",
       "      <th>max</th>\n",
       "    </tr>\n",
       "    <tr>\n",
       "      <th>bool_of_active</th>\n",
       "      <th></th>\n",
       "      <th></th>\n",
       "      <th></th>\n",
       "      <th></th>\n",
       "      <th></th>\n",
       "      <th></th>\n",
       "      <th></th>\n",
       "      <th></th>\n",
       "    </tr>\n",
       "  </thead>\n",
       "  <tbody>\n",
       "    <tr>\n",
       "      <th>0</th>\n",
       "      <td>364.0</td>\n",
       "      <td>84.030220</td>\n",
       "      <td>66.986506</td>\n",
       "      <td>0.0</td>\n",
       "      <td>19.25</td>\n",
       "      <td>74.5</td>\n",
       "      <td>142.25</td>\n",
       "      <td>234.0</td>\n",
       "    </tr>\n",
       "    <tr>\n",
       "      <th>500</th>\n",
       "      <td>308.0</td>\n",
       "      <td>111.207792</td>\n",
       "      <td>74.810656</td>\n",
       "      <td>0.0</td>\n",
       "      <td>35.00</td>\n",
       "      <td>120.0</td>\n",
       "      <td>168.25</td>\n",
       "      <td>254.0</td>\n",
       "    </tr>\n",
       "  </tbody>\n",
       "</table>\n",
       "</div>"
      ],
      "text/plain": [
       "                count        mean        std  min    25%    50%     75%    max\n",
       "bool_of_active                                                                \n",
       "0               364.0   84.030220  66.986506  0.0  19.25   74.5  142.25  234.0\n",
       "500             308.0  111.207792  74.810656  0.0  35.00  120.0  168.25  254.0"
      ]
     },
     "execution_count": 164,
     "metadata": {},
     "output_type": "execute_result"
    }
   ],
   "source": [
    "#Average descriptive statistics_ of CALORIES SPENT by Activeness (0 = inactive and 500 = active)\n",
    "df.calories_burned.groupby(df.bool_of_active).describe()"
   ]
  },
  {
   "cell_type": "code",
   "execution_count": 165,
   "metadata": {},
   "outputs": [
    {
     "data": {
      "text/plain": [
       "<Figure size 432x360 with 0 Axes>"
      ]
     },
     "execution_count": 165,
     "metadata": {},
     "output_type": "execute_result"
    },
    {
     "data": {
      "image/png": "[encoded data removed]",
      "text/plain": [
       "<Figure size 432x288 with 1 Axes>"
      ]
     },
     "metadata": {},
     "output_type": "display_data"
    },
    {
     "data": {
      "text/plain": [
       "<Figure size 432x360 with 0 Axes>"
      ]
     },
     "metadata": {},
     "output_type": "display_data"
    }
   ],
   "source": [
    "# bar chart showing the distribution of EXPENDED CALORIES by category of Activeness (0 = inactive and 500 = active)\n",
    "sns.barplot(x = \"bool_of_active\", y=\"calories_burned\", data = df)\n",
    "plt.title('Graph 1. Comparison of calories expended by self-perceived activity')\n",
    "plt.legend(['0 = Inactive', '500 = Active'], loc='upper left', prop={'size': 7})\n",
    "plt.figure(figsize=(6,5))"
   ]
  },
  {
   "cell_type": "markdown",
   "metadata": {},
   "source": [
    "# 5. Sleeping Hours vs Mood"
   ]
  },
  {
   "cell_type": "code",
   "execution_count": 166,
   "metadata": {},
   "outputs": [
    {
     "data": {
      "text/html": [
       "<div>\n",
       "<style scoped>\n",
       "    .dataframe tbody tr th:only-of-type {\n",
       "        vertical-align: middle;\n",
       "    }\n",
       "\n",
       "    .dataframe tbody tr th {\n",
       "        vertical-align: top;\n",
       "    }\n",
       "\n",
       "    .dataframe thead th {\n",
       "        text-align: right;\n",
       "    }\n",
       "</style>\n",
       "<table border=\"1\" class=\"dataframe\">\n",
       "  <thead>\n",
       "    <tr style=\"text-align: right;\">\n",
       "      <th></th>\n",
       "      <th>count</th>\n",
       "      <th>mean</th>\n",
       "      <th>std</th>\n",
       "      <th>min</th>\n",
       "      <th>25%</th>\n",
       "      <th>50%</th>\n",
       "      <th>75%</th>\n",
       "      <th>max</th>\n",
       "    </tr>\n",
       "    <tr>\n",
       "      <th>mood</th>\n",
       "      <th></th>\n",
       "      <th></th>\n",
       "      <th></th>\n",
       "      <th></th>\n",
       "      <th></th>\n",
       "      <th></th>\n",
       "      <th></th>\n",
       "      <th></th>\n",
       "    </tr>\n",
       "  </thead>\n",
       "  <tbody>\n",
       "    <tr>\n",
       "      <th>100</th>\n",
       "      <td>182.0</td>\n",
       "      <td>5.093407</td>\n",
       "      <td>1.801491</td>\n",
       "      <td>2.0</td>\n",
       "      <td>4.0</td>\n",
       "      <td>5.0</td>\n",
       "      <td>6.0</td>\n",
       "      <td>9.0</td>\n",
       "    </tr>\n",
       "    <tr>\n",
       "      <th>200</th>\n",
       "      <td>179.0</td>\n",
       "      <td>4.927374</td>\n",
       "      <td>1.365827</td>\n",
       "      <td>2.0</td>\n",
       "      <td>4.0</td>\n",
       "      <td>5.0</td>\n",
       "      <td>6.0</td>\n",
       "      <td>8.0</td>\n",
       "    </tr>\n",
       "    <tr>\n",
       "      <th>300</th>\n",
       "      <td>311.0</td>\n",
       "      <td>5.832797</td>\n",
       "      <td>1.540115</td>\n",
       "      <td>2.0</td>\n",
       "      <td>5.0</td>\n",
       "      <td>6.0</td>\n",
       "      <td>7.0</td>\n",
       "      <td>9.0</td>\n",
       "    </tr>\n",
       "  </tbody>\n",
       "</table>\n",
       "</div>"
      ],
      "text/plain": [
       "      count      mean       std  min  25%  50%  75%  max\n",
       "mood                                                    \n",
       "100   182.0  5.093407  1.801491  2.0  4.0  5.0  6.0  9.0\n",
       "200   179.0  4.927374  1.365827  2.0  4.0  5.0  6.0  8.0\n",
       "300   311.0  5.832797  1.540115  2.0  5.0  6.0  7.0  9.0"
      ]
     },
     "execution_count": 166,
     "metadata": {},
     "output_type": "execute_result"
    }
   ],
   "source": [
    "#Average descriptive statistics of HOURS OF SLEEP by mood category (100 = sad, 200 = neutral and 300 = happy)\n",
    "df.hours_of_sleep.groupby(df.mood).describe()"
   ]
  },
  {
   "cell_type": "code",
   "execution_count": 167,
   "metadata": {},
   "outputs": [
    {
     "data": {
      "text/plain": [
       "<Figure size 432x360 with 0 Axes>"
      ]
     },
     "execution_count": 167,
     "metadata": {},
     "output_type": "execute_result"
    },
    {
     "data": {
      "image/png": "[encoded data removed]",
      "text/plain": [
       "<Figure size 432x288 with 1 Axes>"
      ]
     },
     "metadata": {},
     "output_type": "display_data"
    },
    {
     "data": {
      "text/plain": [
       "<Figure size 432x360 with 0 Axes>"
      ]
     },
     "metadata": {},
     "output_type": "display_data"
    }
   ],
   "source": [
    "# bar chart showing the distribution of SLEEP HOURS by mood category (100 = sad, 200 = neutral and 300 = happy)\n",
    "sns.barplot(x = \"mood\", y=\"hours_of_sleep\", data = df)\n",
    "plt.title('Graph 1. Comparison of hours of sleep by mood perception')\n",
    "plt.legend(['100 = Sad', '200 = Neutral', '300 = Happy'], loc='upper left', prop={'size': 7})\n",
    "plt.figure(figsize=(6,5))"
   ]
  },
  {
   "cell_type": "markdown",
   "metadata": {},
   "source": [
    "# Sleeping Hours vs Activeness"
   ]
  },
  {
   "cell_type": "code",
   "execution_count": 168,
   "metadata": {},
   "outputs": [
    {
     "data": {
      "text/html": [
       "<div>\n",
       "<style scoped>\n",
       "    .dataframe tbody tr th:only-of-type {\n",
       "        vertical-align: middle;\n",
       "    }\n",
       "\n",
       "    .dataframe tbody tr th {\n",
       "        vertical-align: top;\n",
       "    }\n",
       "\n",
       "    .dataframe thead th {\n",
       "        text-align: right;\n",
       "    }\n",
       "</style>\n",
       "<table border=\"1\" class=\"dataframe\">\n",
       "  <thead>\n",
       "    <tr style=\"text-align: right;\">\n",
       "      <th></th>\n",
       "      <th>count</th>\n",
       "      <th>mean</th>\n",
       "      <th>std</th>\n",
       "      <th>min</th>\n",
       "      <th>25%</th>\n",
       "      <th>50%</th>\n",
       "      <th>75%</th>\n",
       "      <th>max</th>\n",
       "    </tr>\n",
       "    <tr>\n",
       "      <th>bool_of_active</th>\n",
       "      <th></th>\n",
       "      <th></th>\n",
       "      <th></th>\n",
       "      <th></th>\n",
       "      <th></th>\n",
       "      <th></th>\n",
       "      <th></th>\n",
       "      <th></th>\n",
       "    </tr>\n",
       "  </thead>\n",
       "  <tbody>\n",
       "    <tr>\n",
       "      <th>0</th>\n",
       "      <td>364.0</td>\n",
       "      <td>5.178571</td>\n",
       "      <td>1.706730</td>\n",
       "      <td>2.0</td>\n",
       "      <td>4.0</td>\n",
       "      <td>5.0</td>\n",
       "      <td>6.0</td>\n",
       "      <td>9.0</td>\n",
       "    </tr>\n",
       "    <tr>\n",
       "      <th>500</th>\n",
       "      <td>308.0</td>\n",
       "      <td>5.642857</td>\n",
       "      <td>1.484682</td>\n",
       "      <td>2.0</td>\n",
       "      <td>5.0</td>\n",
       "      <td>5.0</td>\n",
       "      <td>7.0</td>\n",
       "      <td>9.0</td>\n",
       "    </tr>\n",
       "  </tbody>\n",
       "</table>\n",
       "</div>"
      ],
      "text/plain": [
       "                count      mean       std  min  25%  50%  75%  max\n",
       "bool_of_active                                                    \n",
       "0               364.0  5.178571  1.706730  2.0  4.0  5.0  6.0  9.0\n",
       "500             308.0  5.642857  1.484682  2.0  5.0  5.0  7.0  9.0"
      ]
     },
     "execution_count": 168,
     "metadata": {},
     "output_type": "execute_result"
    }
   ],
   "source": [
    "#Average descriptive statistics of SLEEP HOURS by self-perceived activity (0 = inactive and 500 = active)\n",
    "df.hours_of_sleep.groupby(df.bool_of_active).describe()"
   ]
  },
  {
   "cell_type": "code",
   "execution_count": 169,
   "metadata": {},
   "outputs": [
    {
     "data": {
      "text/plain": [
       "<Figure size 432x360 with 0 Axes>"
      ]
     },
     "execution_count": 169,
     "metadata": {},
     "output_type": "execute_result"
    },
    {
     "data": {
      "image/png": "[encoded data removed]",
      "text/plain": [
       "<Figure size 432x288 with 1 Axes>"
      ]
     },
     "metadata": {},
     "output_type": "display_data"
    },
    {
     "data": {
      "text/plain": [
       "<Figure size 432x360 with 0 Axes>"
      ]
     },
     "metadata": {},
     "output_type": "display_data"
    }
   ],
   "source": [
    "# bar chart showing the distribution of SLEEP HOURS by category of self-perceived activity (0 = inactive and 500 = active)\n",
    "sns.barplot(x = \"bool_of_active\", y=\"hours_of_sleep\", data = df)\n",
    "plt.title('Graph 1. Comparison of hours of sleep by self-perceived activity')\n",
    "plt.legend(['0 = Inative', '500 = Active'], loc='upper left', prop={'size': 7})\n",
    "plt.figure(figsize=(6,5))"
   ]
  },
  {
   "cell_type": "markdown",
   "metadata": {},
   "source": [
    "# Mood vs Activeness"
   ]
  },
  {
   "cell_type": "code",
   "execution_count": 170,
   "metadata": {},
   "outputs": [
    {
     "data": {
      "text/html": [
       "<div>\n",
       "<style scoped>\n",
       "    .dataframe tbody tr th:only-of-type {\n",
       "        vertical-align: middle;\n",
       "    }\n",
       "\n",
       "    .dataframe tbody tr th {\n",
       "        vertical-align: top;\n",
       "    }\n",
       "\n",
       "    .dataframe thead th {\n",
       "        text-align: right;\n",
       "    }\n",
       "</style>\n",
       "<table border=\"1\" class=\"dataframe\">\n",
       "  <thead>\n",
       "    <tr style=\"text-align: right;\">\n",
       "      <th>mood</th>\n",
       "      <th>100</th>\n",
       "      <th>200</th>\n",
       "      <th>300</th>\n",
       "    </tr>\n",
       "    <tr>\n",
       "      <th>bool_of_active</th>\n",
       "      <th></th>\n",
       "      <th></th>\n",
       "      <th></th>\n",
       "    </tr>\n",
       "  </thead>\n",
       "  <tbody>\n",
       "    <tr>\n",
       "      <th>0</th>\n",
       "      <td>42.582418</td>\n",
       "      <td>26.923077</td>\n",
       "      <td>30.494505</td>\n",
       "    </tr>\n",
       "    <tr>\n",
       "      <th>500</th>\n",
       "      <td>8.766234</td>\n",
       "      <td>26.298701</td>\n",
       "      <td>64.935065</td>\n",
       "    </tr>\n",
       "    <tr>\n",
       "      <th>All</th>\n",
       "      <td>27.083333</td>\n",
       "      <td>26.636905</td>\n",
       "      <td>46.279762</td>\n",
       "    </tr>\n",
       "  </tbody>\n",
       "</table>\n",
       "</div>"
      ],
      "text/plain": [
       "mood                  100        200        300\n",
       "bool_of_active                                 \n",
       "0               42.582418  26.923077  30.494505\n",
       "500              8.766234  26.298701  64.935065\n",
       "All             27.083333  26.636905  46.279762"
      ]
     },
     "execution_count": 170,
     "metadata": {},
     "output_type": "execute_result"
    }
   ],
   "source": [
    "# creating a contingency table between feeling active or inactive (bool_of_activity) x humor (mood) in percentage\n",
    "pd.crosstab([df. bool_of_active], [df.mood], normalize='index', margins=True)*100"
   ]
  },
  {
   "cell_type": "code",
   "execution_count": 171,
   "metadata": {},
   "outputs": [
    {
     "data": {
      "text/plain": [
       "<Figure size 432x360 with 0 Axes>"
      ]
     },
     "execution_count": 171,
     "metadata": {},
     "output_type": "execute_result"
    },
    {
     "data": {
      "image/png": "[encoded data removed]",
      "text/plain": [
       "<Figure size 432x288 with 1 Axes>"
      ]
     },
     "metadata": {},
     "output_type": "display_data"
    },
    {
     "data": {
      "text/plain": [
       "<Figure size 432x360 with 0 Axes>"
      ]
     },
     "metadata": {},
     "output_type": "display_data"
    }
   ],
   "source": [
    "# bar chart showing the distribution of MOOD by category of self-perceived activity (0 = inactive and 500 = active)\n",
    "sns.barplot(x = \"bool_of_active\", y=\"mood\", data = df)\n",
    "plt.title('Graph 1. Comparison of mood by self-perceived activity')\n",
    "plt.legend(['0 = Inative', '500 = Active'], loc='upper left', prop={'size': 7})\n",
    "plt.figure(figsize=(6,5))"
   ]
  },
  {
   "cell_type": "markdown",
   "metadata": {},
   "source": [
    "# Mood vs Weight"
   ]
  },
  {
   "cell_type": "code",
   "execution_count": 172,
   "metadata": {},
   "outputs": [
    {
     "data": {
      "text/html": [
       "<div>\n",
       "<style scoped>\n",
       "    .dataframe tbody tr th:only-of-type {\n",
       "        vertical-align: middle;\n",
       "    }\n",
       "\n",
       "    .dataframe tbody tr th {\n",
       "        vertical-align: top;\n",
       "    }\n",
       "\n",
       "    .dataframe thead th {\n",
       "        text-align: right;\n",
       "    }\n",
       "</style>\n",
       "<table border=\"1\" class=\"dataframe\">\n",
       "  <thead>\n",
       "    <tr style=\"text-align: right;\">\n",
       "      <th></th>\n",
       "      <th>count</th>\n",
       "      <th>mean</th>\n",
       "      <th>std</th>\n",
       "      <th>min</th>\n",
       "      <th>25%</th>\n",
       "      <th>50%</th>\n",
       "      <th>75%</th>\n",
       "      <th>max</th>\n",
       "    </tr>\n",
       "    <tr>\n",
       "      <th>mood</th>\n",
       "      <th></th>\n",
       "      <th></th>\n",
       "      <th></th>\n",
       "      <th></th>\n",
       "      <th></th>\n",
       "      <th></th>\n",
       "      <th></th>\n",
       "      <th></th>\n",
       "    </tr>\n",
       "  </thead>\n",
       "  <tbody>\n",
       "    <tr>\n",
       "      <th>100</th>\n",
       "      <td>182.0</td>\n",
       "      <td>64.637363</td>\n",
       "      <td>0.821217</td>\n",
       "      <td>64.0</td>\n",
       "      <td>64.0</td>\n",
       "      <td>64.0</td>\n",
       "      <td>65.0</td>\n",
       "      <td>66.0</td>\n",
       "    </tr>\n",
       "    <tr>\n",
       "      <th>200</th>\n",
       "      <td>179.0</td>\n",
       "      <td>64.229050</td>\n",
       "      <td>0.568899</td>\n",
       "      <td>64.0</td>\n",
       "      <td>64.0</td>\n",
       "      <td>64.0</td>\n",
       "      <td>64.0</td>\n",
       "      <td>66.0</td>\n",
       "    </tr>\n",
       "    <tr>\n",
       "      <th>300</th>\n",
       "      <td>311.0</td>\n",
       "      <td>64.045016</td>\n",
       "      <td>0.249966</td>\n",
       "      <td>64.0</td>\n",
       "      <td>64.0</td>\n",
       "      <td>64.0</td>\n",
       "      <td>64.0</td>\n",
       "      <td>66.0</td>\n",
       "    </tr>\n",
       "  </tbody>\n",
       "</table>\n",
       "</div>"
      ],
      "text/plain": [
       "      count       mean       std   min   25%   50%   75%   max\n",
       "mood                                                          \n",
       "100   182.0  64.637363  0.821217  64.0  64.0  64.0  65.0  66.0\n",
       "200   179.0  64.229050  0.568899  64.0  64.0  64.0  64.0  66.0\n",
       "300   311.0  64.045016  0.249966  64.0  64.0  64.0  64.0  66.0"
      ]
     },
     "execution_count": 172,
     "metadata": {},
     "output_type": "execute_result"
    }
   ],
   "source": [
    "#Average descriptive statistics of MOOD by Weight\n",
    "df.weight_kg.groupby(df.mood).describe()"
   ]
  },
  {
   "cell_type": "code",
   "execution_count": 173,
   "metadata": {},
   "outputs": [
    {
     "data": {
      "text/plain": [
       "<Figure size 432x360 with 0 Axes>"
      ]
     },
     "execution_count": 173,
     "metadata": {},
     "output_type": "execute_result"
    },
    {
     "data": {
      "image/png": "[encoded data removed]",
      "text/plain": [
       "<Figure size 432x288 with 1 Axes>"
      ]
     },
     "metadata": {},
     "output_type": "display_data"
    },
    {
     "data": {
      "text/plain": [
       "<Figure size 432x360 with 0 Axes>"
      ]
     },
     "metadata": {},
     "output_type": "display_data"
    }
   ],
   "source": [
    "# bar chart showing the distribution of MOOD by Weights\n",
    "sns.barplot(x = \"weight_kg\", y=\"mood\", data = df)\n",
    "plt.title('Graph 1. Comparison of mood by weight')\n",
    "plt.legend(['0 = Inative', '500 = Active'], loc='upper left', prop={'size': 7})\n",
    "plt.figure(figsize=(6,5))"
   ]
  },
  {
   "cell_type": "markdown",
   "metadata": {},
   "source": [
    "\n",
    "--> From the given data there is no much variance in weights. But some how we can say that less weight people tends to be more \"happy\" which inturn effects on activeness."
   ]
  },
  {
   "cell_type": "markdown",
   "metadata": {},
   "source": [
    "# Final Observation :\n",
    "We want to predict whether a person is active or inactive which is a Binary classification problem based on hours slept, mood, daily step count, calories burned and weight."
   ]
  },
  {
   "cell_type": "markdown",
   "metadata": {},
   "source": [
    "Taking care of missing values"
   ]
  },
  {
   "cell_type": "code",
   "execution_count": 174,
   "metadata": {},
   "outputs": [
    {
     "data": {
      "text/plain": [
       "date               False\n",
       "step_count         False\n",
       "mood               False\n",
       "calories_burned    False\n",
       "hours_of_sleep     False\n",
       "bool_of_active     False\n",
       "weight_kg          False\n",
       "dtype: bool"
      ]
     },
     "execution_count": 174,
     "metadata": {},
     "output_type": "execute_result"
    }
   ],
   "source": [
    "df.isnull().any()"
   ]
  },
  {
   "cell_type": "markdown",
   "metadata": {},
   "source": [
    "# Outlier analysis using Boxplot"
   ]
  },
  {
   "cell_type": "code",
   "execution_count": 175,
   "metadata": {},
   "outputs": [
    {
     "data": {
      "text/plain": [
       "<AxesSubplot:>"
      ]
     },
     "execution_count": 175,
     "metadata": {},
     "output_type": "execute_result"
    },
    {
     "data": {
      "image/png": "[encoded data removed]",
      "text/plain": [
       "<Figure size 432x288 with 1 Axes>"
      ]
     },
     "metadata": {},
     "output_type": "display_data"
    }
   ],
   "source": [
    "df.boxplot(column=\"step_count\")  #Boxplot of Step_count"
   ]
  },
  {
   "cell_type": "code",
   "execution_count": 176,
   "metadata": {},
   "outputs": [
    {
     "data": {
      "text/plain": [
       "<AxesSubplot:>"
      ]
     },
     "execution_count": 176,
     "metadata": {},
     "output_type": "execute_result"
    },
    {
     "data": {
      "image/png": "[encoded data removed]",
      "text/plain": [
       "<Figure size 432x288 with 1 Axes>"
      ]
     },
     "metadata": {},
     "output_type": "display_data"
    }
   ],
   "source": [
    "df.boxplot(column=\"calories_burned\")  #Boxplot of calories_burned"
   ]
  },
  {
   "cell_type": "code",
   "execution_count": 177,
   "metadata": {},
   "outputs": [
    {
     "data": {
      "text/plain": [
       "<AxesSubplot:>"
      ]
     },
     "execution_count": 177,
     "metadata": {},
     "output_type": "execute_result"
    },
    {
     "data": {
      "image/png": "[encoded data removed]",
      "text/plain": [
       "<Figure size 432x288 with 1 Axes>"
      ]
     },
     "metadata": {},
     "output_type": "display_data"
    }
   ],
   "source": [
    "df.boxplot(column=\"hours_of_sleep\")  #Boxplot of hours_of_sleep"
   ]
  },
  {
   "cell_type": "code",
   "execution_count": 178,
   "metadata": {},
   "outputs": [
    {
     "data": {
      "text/plain": [
       "<AxesSubplot:>"
      ]
     },
     "execution_count": 178,
     "metadata": {},
     "output_type": "execute_result"
    },
    {
     "data": {
      "image/png": "[encoded data removed]",
      "text/plain": [
       "<Figure size 432x288 with 1 Axes>"
      ]
     },
     "metadata": {},
     "output_type": "display_data"
    }
   ],
   "source": [
    "df.boxplot(column=\"weight_kg\")  #Boxplot of weight_kg"
   ]
  },
  {
   "cell_type": "code",
   "execution_count": 179,
   "metadata": {},
   "outputs": [
    {
     "data": {
      "text/plain": [
       "<AxesSubplot:>"
      ]
     },
     "execution_count": 179,
     "metadata": {},
     "output_type": "execute_result"
    },
    {
     "data": {
      "image/png": "[encoded data removed]",
      "text/plain": [
       "<Figure size 432x288 with 1 Axes>"
      ]
     },
     "metadata": {},
     "output_type": "display_data"
    }
   ],
   "source": [
    "df.boxplot(column=\"mood\")  #Boxplot of mood"
   ]
  },
  {
   "cell_type": "code",
   "execution_count": 180,
   "metadata": {},
   "outputs": [
    {
     "data": {
      "text/plain": [
       "<AxesSubplot:>"
      ]
     },
     "execution_count": 180,
     "metadata": {},
     "output_type": "execute_result"
    },
    {
     "data": {
      "image/png": "[encoded data removed]",
      "text/plain": [
       "<Figure size 432x288 with 1 Axes>"
      ]
     },
     "metadata": {},
     "output_type": "display_data"
    }
   ],
   "source": [
    "df.boxplot(column=\"bool_of_active\")  #Boxplot of bool_of_active"
   ]
  },
  {
   "cell_type": "markdown",
   "metadata": {},
   "source": [
    "# Label Encoding¶"
   ]
  },
  {
   "cell_type": "markdown",
   "metadata": {},
   "source": [
    "\"Mood\" and \"bool_of_active\" are categorical variables but they are represented as --> bool_of_active : Active - 500 and Inactive - 0 --> mood : 100 - sad, 200 - neutral and 300 - happy Encode mood values as --> 100 - 0, 200 - 1 and 300 - 2 Encode bool_of_active values as --> 0 - 0 and 500 - 1"
   ]
  },
  {
   "cell_type": "code",
   "execution_count": 181,
   "metadata": {
    "colab": {
     "base_uri": "https://localhost:8080/",
     "height": 417
    },
    "executionInfo": {
     "elapsed": 610,
     "status": "ok",
     "timestamp": 1626959444042,
     "user": {
      "displayName": "RAMAKRISHNA SATLA",
      "photoUrl": "https://lh3.googleusercontent.com/a-/AOh14GijkeHKYzSfNjK58e35kmkpQSFt_uHWYIjdru_72Q=s64",
      "userId": "17543982960193299155"
     },
     "user_tz": -330
    },
    "id": "17KPt3PzVtph",
    "outputId": "6221f965-22d2-4e5f-8eba-7d3e3e326c72"
   },
   "outputs": [
    {
     "data": {
      "text/html": [
       "<div>\n",
       "<style scoped>\n",
       "    .dataframe tbody tr th:only-of-type {\n",
       "        vertical-align: middle;\n",
       "    }\n",
       "\n",
       "    .dataframe tbody tr th {\n",
       "        vertical-align: top;\n",
       "    }\n",
       "\n",
       "    .dataframe thead th {\n",
       "        text-align: right;\n",
       "    }\n",
       "</style>\n",
       "<table border=\"1\" class=\"dataframe\">\n",
       "  <thead>\n",
       "    <tr style=\"text-align: right;\">\n",
       "      <th></th>\n",
       "      <th>date</th>\n",
       "      <th>step_count</th>\n",
       "      <th>mood</th>\n",
       "      <th>calories_burned</th>\n",
       "      <th>hours_of_sleep</th>\n",
       "      <th>bool_of_active</th>\n",
       "      <th>weight_kg</th>\n",
       "    </tr>\n",
       "  </thead>\n",
       "  <tbody>\n",
       "    <tr>\n",
       "      <th>0</th>\n",
       "      <td>06-10-2017</td>\n",
       "      <td>5464</td>\n",
       "      <td>200</td>\n",
       "      <td>181</td>\n",
       "      <td>5</td>\n",
       "      <td>0</td>\n",
       "      <td>66</td>\n",
       "    </tr>\n",
       "    <tr>\n",
       "      <th>1</th>\n",
       "      <td>07-10-2017</td>\n",
       "      <td>6041</td>\n",
       "      <td>100</td>\n",
       "      <td>197</td>\n",
       "      <td>8</td>\n",
       "      <td>0</td>\n",
       "      <td>66</td>\n",
       "    </tr>\n",
       "    <tr>\n",
       "      <th>2</th>\n",
       "      <td>08-10-2017</td>\n",
       "      <td>25</td>\n",
       "      <td>100</td>\n",
       "      <td>0</td>\n",
       "      <td>5</td>\n",
       "      <td>0</td>\n",
       "      <td>66</td>\n",
       "    </tr>\n",
       "    <tr>\n",
       "      <th>3</th>\n",
       "      <td>09-10-2017</td>\n",
       "      <td>5461</td>\n",
       "      <td>100</td>\n",
       "      <td>174</td>\n",
       "      <td>4</td>\n",
       "      <td>0</td>\n",
       "      <td>66</td>\n",
       "    </tr>\n",
       "    <tr>\n",
       "      <th>4</th>\n",
       "      <td>10-10-2017</td>\n",
       "      <td>6915</td>\n",
       "      <td>200</td>\n",
       "      <td>223</td>\n",
       "      <td>5</td>\n",
       "      <td>1</td>\n",
       "      <td>66</td>\n",
       "    </tr>\n",
       "    <tr>\n",
       "      <th>...</th>\n",
       "      <td>...</td>\n",
       "      <td>...</td>\n",
       "      <td>...</td>\n",
       "      <td>...</td>\n",
       "      <td>...</td>\n",
       "      <td>...</td>\n",
       "      <td>...</td>\n",
       "    </tr>\n",
       "    <tr>\n",
       "      <th>667</th>\n",
       "      <td>04-08-2019</td>\n",
       "      <td>133</td>\n",
       "      <td>100</td>\n",
       "      <td>4</td>\n",
       "      <td>3</td>\n",
       "      <td>0</td>\n",
       "      <td>64</td>\n",
       "    </tr>\n",
       "    <tr>\n",
       "      <th>668</th>\n",
       "      <td>05-08-2019</td>\n",
       "      <td>153</td>\n",
       "      <td>300</td>\n",
       "      <td>4</td>\n",
       "      <td>8</td>\n",
       "      <td>0</td>\n",
       "      <td>64</td>\n",
       "    </tr>\n",
       "    <tr>\n",
       "      <th>669</th>\n",
       "      <td>06-08-2019</td>\n",
       "      <td>500</td>\n",
       "      <td>200</td>\n",
       "      <td>7</td>\n",
       "      <td>5</td>\n",
       "      <td>1</td>\n",
       "      <td>64</td>\n",
       "    </tr>\n",
       "    <tr>\n",
       "      <th>670</th>\n",
       "      <td>07-08-2019</td>\n",
       "      <td>2127</td>\n",
       "      <td>200</td>\n",
       "      <td>87</td>\n",
       "      <td>5</td>\n",
       "      <td>0</td>\n",
       "      <td>64</td>\n",
       "    </tr>\n",
       "    <tr>\n",
       "      <th>671</th>\n",
       "      <td>08-08-2019</td>\n",
       "      <td>2203</td>\n",
       "      <td>300</td>\n",
       "      <td>98</td>\n",
       "      <td>5</td>\n",
       "      <td>1</td>\n",
       "      <td>64</td>\n",
       "    </tr>\n",
       "  </tbody>\n",
       "</table>\n",
       "<p>672 rows × 7 columns</p>\n",
       "</div>"
      ],
      "text/plain": [
       "           date  step_count  mood  calories_burned  hours_of_sleep  \\\n",
       "0    06-10-2017        5464   200              181               5   \n",
       "1    07-10-2017        6041   100              197               8   \n",
       "2    08-10-2017          25   100                0               5   \n",
       "3    09-10-2017        5461   100              174               4   \n",
       "4    10-10-2017        6915   200              223               5   \n",
       "..          ...         ...   ...              ...             ...   \n",
       "667  04-08-2019         133   100                4               3   \n",
       "668  05-08-2019         153   300                4               8   \n",
       "669  06-08-2019         500   200                7               5   \n",
       "670  07-08-2019        2127   200               87               5   \n",
       "671  08-08-2019        2203   300               98               5   \n",
       "\n",
       "     bool_of_active  weight_kg  \n",
       "0                 0         66  \n",
       "1                 0         66  \n",
       "2                 0         66  \n",
       "3                 0         66  \n",
       "4                 1         66  \n",
       "..              ...        ...  \n",
       "667               0         64  \n",
       "668               0         64  \n",
       "669               1         64  \n",
       "670               0         64  \n",
       "671               1         64  \n",
       "\n",
       "[672 rows x 7 columns]"
      ]
     },
     "execution_count": 181,
     "metadata": {},
     "output_type": "execute_result"
    }
   ],
   "source": [
    "from sklearn.preprocessing import LabelEncoder\n",
    "le=LabelEncoder()\n",
    "df['bool_of_active']=le.fit_transform(df['bool_of_active'])\n",
    "df"
   ]
  },
  {
   "cell_type": "code",
   "execution_count": 182,
   "metadata": {
    "colab": {
     "base_uri": "https://localhost:8080/",
     "height": 417
    },
    "executionInfo": {
     "elapsed": 856,
     "status": "ok",
     "timestamp": 1626959525838,
     "user": {
      "displayName": "RAMAKRISHNA SATLA",
      "photoUrl": "https://lh3.googleusercontent.com/a-/AOh14GijkeHKYzSfNjK58e35kmkpQSFt_uHWYIjdru_72Q=s64",
      "userId": "17543982960193299155"
     },
     "user_tz": -330
    },
    "id": "9HfIrV2VWB0M",
    "outputId": "6eec5b5c-387c-4183-f272-1081f259287b"
   },
   "outputs": [
    {
     "data": {
      "text/html": [
       "<div>\n",
       "<style scoped>\n",
       "    .dataframe tbody tr th:only-of-type {\n",
       "        vertical-align: middle;\n",
       "    }\n",
       "\n",
       "    .dataframe tbody tr th {\n",
       "        vertical-align: top;\n",
       "    }\n",
       "\n",
       "    .dataframe thead th {\n",
       "        text-align: right;\n",
       "    }\n",
       "</style>\n",
       "<table border=\"1\" class=\"dataframe\">\n",
       "  <thead>\n",
       "    <tr style=\"text-align: right;\">\n",
       "      <th></th>\n",
       "      <th>date</th>\n",
       "      <th>step_count</th>\n",
       "      <th>mood</th>\n",
       "      <th>calories_burned</th>\n",
       "      <th>hours_of_sleep</th>\n",
       "      <th>bool_of_active</th>\n",
       "      <th>weight_kg</th>\n",
       "    </tr>\n",
       "  </thead>\n",
       "  <tbody>\n",
       "    <tr>\n",
       "      <th>0</th>\n",
       "      <td>06-10-2017</td>\n",
       "      <td>5464</td>\n",
       "      <td>1</td>\n",
       "      <td>181</td>\n",
       "      <td>5</td>\n",
       "      <td>0</td>\n",
       "      <td>66</td>\n",
       "    </tr>\n",
       "    <tr>\n",
       "      <th>1</th>\n",
       "      <td>07-10-2017</td>\n",
       "      <td>6041</td>\n",
       "      <td>0</td>\n",
       "      <td>197</td>\n",
       "      <td>8</td>\n",
       "      <td>0</td>\n",
       "      <td>66</td>\n",
       "    </tr>\n",
       "    <tr>\n",
       "      <th>2</th>\n",
       "      <td>08-10-2017</td>\n",
       "      <td>25</td>\n",
       "      <td>0</td>\n",
       "      <td>0</td>\n",
       "      <td>5</td>\n",
       "      <td>0</td>\n",
       "      <td>66</td>\n",
       "    </tr>\n",
       "    <tr>\n",
       "      <th>3</th>\n",
       "      <td>09-10-2017</td>\n",
       "      <td>5461</td>\n",
       "      <td>0</td>\n",
       "      <td>174</td>\n",
       "      <td>4</td>\n",
       "      <td>0</td>\n",
       "      <td>66</td>\n",
       "    </tr>\n",
       "    <tr>\n",
       "      <th>4</th>\n",
       "      <td>10-10-2017</td>\n",
       "      <td>6915</td>\n",
       "      <td>1</td>\n",
       "      <td>223</td>\n",
       "      <td>5</td>\n",
       "      <td>1</td>\n",
       "      <td>66</td>\n",
       "    </tr>\n",
       "    <tr>\n",
       "      <th>...</th>\n",
       "      <td>...</td>\n",
       "      <td>...</td>\n",
       "      <td>...</td>\n",
       "      <td>...</td>\n",
       "      <td>...</td>\n",
       "      <td>...</td>\n",
       "      <td>...</td>\n",
       "    </tr>\n",
       "    <tr>\n",
       "      <th>667</th>\n",
       "      <td>04-08-2019</td>\n",
       "      <td>133</td>\n",
       "      <td>0</td>\n",
       "      <td>4</td>\n",
       "      <td>3</td>\n",
       "      <td>0</td>\n",
       "      <td>64</td>\n",
       "    </tr>\n",
       "    <tr>\n",
       "      <th>668</th>\n",
       "      <td>05-08-2019</td>\n",
       "      <td>153</td>\n",
       "      <td>2</td>\n",
       "      <td>4</td>\n",
       "      <td>8</td>\n",
       "      <td>0</td>\n",
       "      <td>64</td>\n",
       "    </tr>\n",
       "    <tr>\n",
       "      <th>669</th>\n",
       "      <td>06-08-2019</td>\n",
       "      <td>500</td>\n",
       "      <td>1</td>\n",
       "      <td>7</td>\n",
       "      <td>5</td>\n",
       "      <td>1</td>\n",
       "      <td>64</td>\n",
       "    </tr>\n",
       "    <tr>\n",
       "      <th>670</th>\n",
       "      <td>07-08-2019</td>\n",
       "      <td>2127</td>\n",
       "      <td>1</td>\n",
       "      <td>87</td>\n",
       "      <td>5</td>\n",
       "      <td>0</td>\n",
       "      <td>64</td>\n",
       "    </tr>\n",
       "    <tr>\n",
       "      <th>671</th>\n",
       "      <td>08-08-2019</td>\n",
       "      <td>2203</td>\n",
       "      <td>2</td>\n",
       "      <td>98</td>\n",
       "      <td>5</td>\n",
       "      <td>1</td>\n",
       "      <td>64</td>\n",
       "    </tr>\n",
       "  </tbody>\n",
       "</table>\n",
       "<p>672 rows × 7 columns</p>\n",
       "</div>"
      ],
      "text/plain": [
       "           date  step_count  mood  calories_burned  hours_of_sleep  \\\n",
       "0    06-10-2017        5464     1              181               5   \n",
       "1    07-10-2017        6041     0              197               8   \n",
       "2    08-10-2017          25     0                0               5   \n",
       "3    09-10-2017        5461     0              174               4   \n",
       "4    10-10-2017        6915     1              223               5   \n",
       "..          ...         ...   ...              ...             ...   \n",
       "667  04-08-2019         133     0                4               3   \n",
       "668  05-08-2019         153     2                4               8   \n",
       "669  06-08-2019         500     1                7               5   \n",
       "670  07-08-2019        2127     1               87               5   \n",
       "671  08-08-2019        2203     2               98               5   \n",
       "\n",
       "     bool_of_active  weight_kg  \n",
       "0                 0         66  \n",
       "1                 0         66  \n",
       "2                 0         66  \n",
       "3                 0         66  \n",
       "4                 1         66  \n",
       "..              ...        ...  \n",
       "667               0         64  \n",
       "668               0         64  \n",
       "669               1         64  \n",
       "670               0         64  \n",
       "671               1         64  \n",
       "\n",
       "[672 rows x 7 columns]"
      ]
     },
     "execution_count": 182,
     "metadata": {},
     "output_type": "execute_result"
    }
   ],
   "source": [
    "df['mood']=le.fit_transform(df['mood'])\n",
    "df"
   ]
  },
  {
   "cell_type": "code",
   "execution_count": 183,
   "metadata": {
    "colab": {
     "base_uri": "https://localhost:8080/",
     "height": 417
    },
    "executionInfo": {
     "elapsed": 644,
     "status": "ok",
     "timestamp": 1626960382031,
     "user": {
      "displayName": "RAMAKRISHNA SATLA",
      "photoUrl": "https://lh3.googleusercontent.com/a-/AOh14GijkeHKYzSfNjK58e35kmkpQSFt_uHWYIjdru_72Q=s64",
      "userId": "17543982960193299155"
     },
     "user_tz": -330
    },
    "id": "WMxjJyDnPe6g",
    "outputId": "98386470-845e-4abb-a448-b2ae782b88ab"
   },
   "outputs": [
    {
     "data": {
      "text/html": [
       "<div>\n",
       "<style scoped>\n",
       "    .dataframe tbody tr th:only-of-type {\n",
       "        vertical-align: middle;\n",
       "    }\n",
       "\n",
       "    .dataframe tbody tr th {\n",
       "        vertical-align: top;\n",
       "    }\n",
       "\n",
       "    .dataframe thead th {\n",
       "        text-align: right;\n",
       "    }\n",
       "</style>\n",
       "<table border=\"1\" class=\"dataframe\">\n",
       "  <thead>\n",
       "    <tr style=\"text-align: right;\">\n",
       "      <th></th>\n",
       "      <th>step_count</th>\n",
       "      <th>mood</th>\n",
       "      <th>calories_burned</th>\n",
       "      <th>hours_of_sleep</th>\n",
       "      <th>weight_kg</th>\n",
       "    </tr>\n",
       "  </thead>\n",
       "  <tbody>\n",
       "    <tr>\n",
       "      <th>0</th>\n",
       "      <td>5464</td>\n",
       "      <td>1</td>\n",
       "      <td>181</td>\n",
       "      <td>5</td>\n",
       "      <td>66</td>\n",
       "    </tr>\n",
       "    <tr>\n",
       "      <th>1</th>\n",
       "      <td>6041</td>\n",
       "      <td>0</td>\n",
       "      <td>197</td>\n",
       "      <td>8</td>\n",
       "      <td>66</td>\n",
       "    </tr>\n",
       "    <tr>\n",
       "      <th>2</th>\n",
       "      <td>25</td>\n",
       "      <td>0</td>\n",
       "      <td>0</td>\n",
       "      <td>5</td>\n",
       "      <td>66</td>\n",
       "    </tr>\n",
       "    <tr>\n",
       "      <th>3</th>\n",
       "      <td>5461</td>\n",
       "      <td>0</td>\n",
       "      <td>174</td>\n",
       "      <td>4</td>\n",
       "      <td>66</td>\n",
       "    </tr>\n",
       "    <tr>\n",
       "      <th>4</th>\n",
       "      <td>6915</td>\n",
       "      <td>1</td>\n",
       "      <td>223</td>\n",
       "      <td>5</td>\n",
       "      <td>66</td>\n",
       "    </tr>\n",
       "    <tr>\n",
       "      <th>...</th>\n",
       "      <td>...</td>\n",
       "      <td>...</td>\n",
       "      <td>...</td>\n",
       "      <td>...</td>\n",
       "      <td>...</td>\n",
       "    </tr>\n",
       "    <tr>\n",
       "      <th>667</th>\n",
       "      <td>133</td>\n",
       "      <td>0</td>\n",
       "      <td>4</td>\n",
       "      <td>3</td>\n",
       "      <td>64</td>\n",
       "    </tr>\n",
       "    <tr>\n",
       "      <th>668</th>\n",
       "      <td>153</td>\n",
       "      <td>2</td>\n",
       "      <td>4</td>\n",
       "      <td>8</td>\n",
       "      <td>64</td>\n",
       "    </tr>\n",
       "    <tr>\n",
       "      <th>669</th>\n",
       "      <td>500</td>\n",
       "      <td>1</td>\n",
       "      <td>7</td>\n",
       "      <td>5</td>\n",
       "      <td>64</td>\n",
       "    </tr>\n",
       "    <tr>\n",
       "      <th>670</th>\n",
       "      <td>2127</td>\n",
       "      <td>1</td>\n",
       "      <td>87</td>\n",
       "      <td>5</td>\n",
       "      <td>64</td>\n",
       "    </tr>\n",
       "    <tr>\n",
       "      <th>671</th>\n",
       "      <td>2203</td>\n",
       "      <td>2</td>\n",
       "      <td>98</td>\n",
       "      <td>5</td>\n",
       "      <td>64</td>\n",
       "    </tr>\n",
       "  </tbody>\n",
       "</table>\n",
       "<p>672 rows × 5 columns</p>\n",
       "</div>"
      ],
      "text/plain": [
       "     step_count  mood  calories_burned  hours_of_sleep  weight_kg\n",
       "0          5464     1              181               5         66\n",
       "1          6041     0              197               8         66\n",
       "2            25     0                0               5         66\n",
       "3          5461     0              174               4         66\n",
       "4          6915     1              223               5         66\n",
       "..          ...   ...              ...             ...        ...\n",
       "667         133     0                4               3         64\n",
       "668         153     2                4               8         64\n",
       "669         500     1                7               5         64\n",
       "670        2127     1               87               5         64\n",
       "671        2203     2               98               5         64\n",
       "\n",
       "[672 rows x 5 columns]"
      ]
     },
     "execution_count": 183,
     "metadata": {},
     "output_type": "execute_result"
    }
   ],
   "source": [
    "x = df.drop(['date','bool_of_active'],axis=1) #independent variables\n",
    "x"
   ]
  },
  {
   "cell_type": "code",
   "execution_count": 184,
   "metadata": {
    "colab": {
     "base_uri": "https://localhost:8080/"
    },
    "executionInfo": {
     "elapsed": 769,
     "status": "ok",
     "timestamp": 1626959464087,
     "user": {
      "displayName": "RAMAKRISHNA SATLA",
      "photoUrl": "https://lh3.googleusercontent.com/a-/AOh14GijkeHKYzSfNjK58e35kmkpQSFt_uHWYIjdru_72Q=s64",
      "userId": "17543982960193299155"
     },
     "user_tz": -330
    },
    "id": "7WgDeBS8RejS",
    "outputId": "4ee33a43-f505-4439-e698-a77fc554a879"
   },
   "outputs": [
    {
     "data": {
      "text/plain": [
       "0      0\n",
       "1      0\n",
       "2      0\n",
       "3      0\n",
       "4      1\n",
       "      ..\n",
       "667    0\n",
       "668    0\n",
       "669    1\n",
       "670    0\n",
       "671    1\n",
       "Name: bool_of_active, Length: 672, dtype: int64"
      ]
     },
     "execution_count": 184,
     "metadata": {},
     "output_type": "execute_result"
    }
   ],
   "source": [
    "y = df[\"bool_of_active\"] #dependent variable\n",
    "y"
   ]
  },
  {
   "cell_type": "code",
   "execution_count": 185,
   "metadata": {
    "executionInfo": {
     "elapsed": 3964,
     "status": "ok",
     "timestamp": 1626959804728,
     "user": {
      "displayName": "RAMAKRISHNA SATLA",
      "photoUrl": "https://lh3.googleusercontent.com/a-/AOh14GijkeHKYzSfNjK58e35kmkpQSFt_uHWYIjdru_72Q=s64",
      "userId": "17543982960193299155"
     },
     "user_tz": -330
    },
    "id": "eqG7IR5bWZ2x"
   },
   "outputs": [],
   "source": [
    "from sklearn import model_selection, neighbors\n",
    "from sklearn.model_selection import train_test_split\n",
    "x_train, x_test, y_train, y_test = train_test_split(x,y,test_size=0.1,random_state=0)\n",
    "x_train1=x_train\n",
    "x_test1=x_test"
   ]
  },
  {
   "cell_type": "markdown",
   "metadata": {},
   "source": [
    "# Feature Scaling"
   ]
  },
  {
   "cell_type": "code",
   "execution_count": 186,
   "metadata": {
    "executionInfo": {
     "elapsed": 562,
     "status": "ok",
     "timestamp": 1626959846643,
     "user": {
      "displayName": "RAMAKRISHNA SATLA",
      "photoUrl": "https://lh3.googleusercontent.com/a-/AOh14GijkeHKYzSfNjK58e35kmkpQSFt_uHWYIjdru_72Q=s64",
      "userId": "17543982960193299155"
     },
     "user_tz": -330
    },
    "id": "MtRXZkw8XQiR"
   },
   "outputs": [],
   "source": [
    "#Apply normalization to rescale the features to a standard range of values.\n",
    "from sklearn.preprocessing import StandardScaler\n",
    "scaler = StandardScaler()\n",
    "x_train = scaler.fit_transform(x_train)\n",
    "x_test = scaler.transform(x_test)"
   ]
  },
  {
   "cell_type": "code",
   "execution_count": 187,
   "metadata": {
    "colab": {
     "base_uri": "https://localhost:8080/"
    },
    "executionInfo": {
     "elapsed": 837,
     "status": "ok",
     "timestamp": 1626959866234,
     "user": {
      "displayName": "RAMAKRISHNA SATLA",
      "photoUrl": "https://lh3.googleusercontent.com/a-/AOh14GijkeHKYzSfNjK58e35kmkpQSFt_uHWYIjdru_72Q=s64",
      "userId": "17543982960193299155"
     },
     "user_tz": -330
    },
    "id": "mOOaBLQBXU59",
    "outputId": "9cdfd9bd-46f2-4a51-b46b-ad2ff13f68f6"
   },
   "outputs": [
    {
     "data": {
      "text/plain": [
       "array([[-1.15992048, -0.24183321, -1.26376434, -0.24541261, -0.42761284],\n",
       "       [ 0.07183731,  0.9554394 ,  0.05451824, -0.24541261, -0.42761284],\n",
       "       [ 0.66492329, -0.24183321,  0.64353811, -0.85540938,  1.24951803],\n",
       "       ...,\n",
       "       [ 1.17294701,  0.9554394 ,  1.17646086, -0.24541261,  2.92664889],\n",
       "       [-0.84833886, -1.43910581, -0.87108442,  0.36458416, -0.42761284],\n",
       "       [-1.04102131, -1.43910581, -0.9692544 , -0.24541261, -0.42761284]])"
      ]
     },
     "execution_count": 187,
     "metadata": {},
     "output_type": "execute_result"
    }
   ],
   "source": [
    "x_train"
   ]
  },
  {
   "cell_type": "code",
   "execution_count": 188,
   "metadata": {
    "colab": {
     "base_uri": "https://localhost:8080/"
    },
    "executionInfo": {
     "elapsed": 614,
     "status": "ok",
     "timestamp": 1626959903694,
     "user": {
      "displayName": "RAMAKRISHNA SATLA",
      "photoUrl": "https://lh3.googleusercontent.com/a-/AOh14GijkeHKYzSfNjK58e35kmkpQSFt_uHWYIjdru_72Q=s64",
      "userId": "17543982960193299155"
     },
     "user_tz": -330
    },
    "id": "uTTEeEqBXdT3",
    "outputId": "e1e7d34f-3cb3-45e6-99ad-4c836b982a60"
   },
   "outputs": [
    {
     "data": {
      "text/plain": [
       "array([[ 0.54273442, -1.43910581,  0.489271  ,  0.36458416,  2.92664889],\n",
       "       [-1.25767158, -0.24183321, -1.20766721, -0.24541261, -0.42761284],\n",
       "       [-0.65236672, -1.43910581, -0.67474446, -0.24541261,  1.24951803],\n",
       "       [-1.01893332, -1.43910581, -1.01132725, -0.85540938, -0.42761284],\n",
       "       [ 0.28519788, -0.24183321,  0.26488248, -0.24541261, -0.42761284],\n",
       "       [ 2.09312319,  0.9554394 ,  2.04596638,  1.5845777 , -0.42761284],\n",
       "       [ 0.67197264,  0.9554394 ,  0.71365953, -0.24541261, -0.42761284],\n",
       "       [ 0.04598967,  0.9554394 ,  0.02646967, -0.85540938, -0.42761284],\n",
       "       [ 1.65982266, -0.24183321,  1.61121362, -0.24541261, -0.42761284],\n",
       "       [ 0.08922573, -0.24183321,  0.05451824, -0.24541261, -0.42761284],\n",
       "       [-1.14159215,  0.9554394 , -1.13754579, -0.24541261, -0.42761284],\n",
       "       [ 0.67197264, -0.24183321,  0.69963524, -0.85540938, -0.42761284],\n",
       "       [-1.11339472, -1.43910581, -1.03937581, -0.85540938, -0.42761284],\n",
       "       [ 0.91635038,  0.9554394 ,  0.79780522,  0.36458416, -0.42761284],\n",
       "       [ 0.77066365,  0.9554394 ,  0.79780522, -0.24541261, -0.42761284],\n",
       "       [ 1.65982266, -0.24183321,  1.6252379 , -0.24541261, -0.42761284],\n",
       "       [-1.30184755, -0.24183321, -1.2918129 ,  1.5845777 , -0.42761284],\n",
       "       [ 0.91776025, -0.24183321,  0.85390235, -0.85540938, -0.42761284],\n",
       "       [-1.31641622, -1.43910581, -1.2918129 , -0.24541261, -0.42761284],\n",
       "       [-1.29056858, -0.24183321, -1.27778862,  1.5845777 , -0.42761284],\n",
       "       [ 0.28519788,  0.9554394 ,  0.26488248, -0.24541261, -0.42761284],\n",
       "       [-1.15992048, -0.24183321, -1.33388575, -0.24541261, -0.42761284],\n",
       "       [-0.3506542 , -0.24183321, -0.28206455, -0.24541261, -0.42761284],\n",
       "       [-0.53440746, -0.24183321, -0.5625502 , -0.24541261, -0.42761284],\n",
       "       [-1.30983682, -1.43910581, -1.26376434,  1.5845777 , -0.42761284],\n",
       "       [-0.06867989, -1.43910581, -0.155846  , -0.24541261,  1.24951803],\n",
       "       [-1.066399  , -1.43910581, -1.01132725, -0.85540938, -0.42761284],\n",
       "       [-1.14159215,  0.9554394 , -1.17961864, -0.24541261, -0.42761284],\n",
       "       [ 0.66492329, -0.24183321,  0.65756239, -0.85540938, -0.42761284],\n",
       "       [-1.38315015, -1.43910581, -1.36193432, -1.46540615,  2.92664889],\n",
       "       [-1.13125309,  0.9554394 , -0.98327868,  0.97458093, -0.42761284],\n",
       "       [ 0.61416791,  0.9554394 ,  0.67158668, -0.24541261, -0.42761284],\n",
       "       [ 1.41967453,  0.9554394 ,  1.40084938, -0.85540938, -0.42761284],\n",
       "       [ 1.85485489,  0.9554394 ,  1.76548073,  0.97458093,  2.92664889],\n",
       "       [ 0.80779027,  0.9554394 ,  0.76975666, -0.24541261,  1.24951803],\n",
       "       [ 0.01497249,  0.9554394 , -0.18389457,  1.5845777 , -0.42761284],\n",
       "       [ 0.45720221, -0.24183321,  0.39110102, -0.24541261, -0.42761284],\n",
       "       [ 1.44411231, -0.24183321,  1.40084938, -0.24541261, -0.42761284],\n",
       "       [ 1.57241062,  0.9554394 ,  1.34475225,  0.97458093, -0.42761284],\n",
       "       [-0.35676364, -0.24183321, -0.35218596,  0.36458416, -0.42761284],\n",
       "       [-1.02974234, -1.43910581, -0.89913299, -0.85540938, -0.42761284],\n",
       "       [-1.15146125, -1.43910581, -1.13754579, -0.85540938, -0.42761284],\n",
       "       [ 1.86190425,  0.9554394 ,  1.91974784,  0.36458416, -0.42761284],\n",
       "       [-1.04102131, -1.43910581, -0.9692544 , -0.85540938, -0.42761284],\n",
       "       [ 1.42437411,  0.9554394 ,  1.44292223,  0.97458093, -0.42761284],\n",
       "       [ 1.94273689, -0.24183321,  1.82157786,  0.36458416, -0.42761284],\n",
       "       [-0.02779361, -0.24183321,  0.02646967, -1.46540615, -0.42761284],\n",
       "       [-1.33239477, -1.43910581, -1.30583719, -1.46540615, -0.42761284],\n",
       "       [-0.02779361, -0.24183321, -0.05767602, -1.46540615, -0.42761284],\n",
       "       [-1.33239477, -1.43910581, -1.2918129 , -2.07540292, -0.42761284],\n",
       "       [-0.81685173, -1.43910581, -0.91315727,  0.97458093,  2.92664889],\n",
       "       [-1.1740192 , -0.24183321, -1.19364292, -0.24541261, -0.42761284],\n",
       "       [-0.92729167,  0.9554394 , -0.91315727,  0.36458416, -0.42761284],\n",
       "       [ 0.74105635, -1.43910581,  0.72768381,  0.97458093,  2.92664889],\n",
       "       [-1.13830245,  0.9554394 , -1.13754579,  0.36458416, -0.42761284],\n",
       "       [-1.04102131,  0.9554394 , -0.9692544 , -0.85540938, -0.42761284],\n",
       "       [ 0.08781586, -0.24183321,  0.04049396, -0.24541261,  1.24951803],\n",
       "       [-1.36153211, -1.43910581, -1.31986147, -0.24541261,  2.92664889],\n",
       "       [-0.59785168, -1.43910581, -0.59059877,  0.36458416, -0.42761284],\n",
       "       [ 1.86190425,  0.9554394 ,  1.91974784,  0.36458416, -0.42761284],\n",
       "       [-1.30983682, -1.43910581, -1.24974005,  2.19457447,  1.24951803],\n",
       "       [-0.59785168, -1.43910581, -0.59059877, -2.07540292, -0.42761284],\n",
       "       [ 2.09312319,  0.9554394 ,  2.04596638,  0.36458416, -0.42761284],\n",
       "       [ 0.30070646,  0.9554394 ,  0.30695533, -0.24541261, -0.42761284],\n",
       "       [-0.58093322,  0.9554394 , -0.75889016, -0.24541261, -0.42761284],\n",
       "       [ 0.08499611,  0.9554394 ,  0.05451824,  1.5845777 , -0.42761284],\n",
       "       [-1.16039044,  0.9554394 , -1.03937581,  0.36458416, -0.42761284],\n",
       "       [-1.01611358,  0.9554394 , -0.91315727,  0.36458416, -0.42761284]])"
      ]
     },
     "execution_count": 188,
     "metadata": {},
     "output_type": "execute_result"
    }
   ],
   "source": [
    "x_test"
   ]
  },
  {
   "cell_type": "markdown",
   "metadata": {},
   "source": [
    "# Model Building :Random Forest Classification"
   ]
  },
  {
   "cell_type": "code",
   "execution_count": 189,
   "metadata": {
    "colab": {
     "base_uri": "https://localhost:8080/"
    },
    "executionInfo": {
     "elapsed": 1044,
     "status": "ok",
     "timestamp": 1626959959090,
     "user": {
      "displayName": "RAMAKRISHNA SATLA",
      "photoUrl": "https://lh3.googleusercontent.com/a-/AOh14GijkeHKYzSfNjK58e35kmkpQSFt_uHWYIjdru_72Q=s64",
      "userId": "17543982960193299155"
     },
     "user_tz": -330
    },
    "id": "FZP65gF6XiEv",
    "outputId": "50133b30-9ab7-44ac-b0b2-43a095a98e2b"
   },
   "outputs": [
    {
     "data": {
      "text/plain": [
       "RandomForestClassifier(max_depth=12, n_estimators=10, random_state=0)"
      ]
     },
     "execution_count": 189,
     "metadata": {},
     "output_type": "execute_result"
    }
   ],
   "source": [
    "from sklearn.ensemble import RandomForestClassifier\n",
    "rmf = RandomForestClassifier(max_depth=12,n_estimators=10,random_state=0)  #max_depth=12\n",
    "rmf.fit(x_train, y_train)"
   ]
  },
  {
   "cell_type": "code",
   "execution_count": 218,
   "metadata": {},
   "outputs": [],
   "source": [
    "import pickle\n",
    "#confusion matrix\n",
    "from sklearn.metrics import confusion_matrix\n",
    "#Cross Validation\n",
    "from sklearn.model_selection import cross_val_score, cross_val_predict"
   ]
  },
  {
   "cell_type": "code",
   "execution_count": 219,
   "metadata": {},
   "outputs": [
    {
     "data": {
      "text/plain": [
       "96.68874172185431"
      ]
     },
     "execution_count": 219,
     "metadata": {},
     "output_type": "execute_result"
    }
   ],
   "source": [
    "rmf.score(x_train,y_train)*100"
   ]
  },
  {
   "cell_type": "code",
   "execution_count": 220,
   "metadata": {},
   "outputs": [
    {
     "data": {
      "text/plain": [
       "1"
      ]
     },
     "execution_count": 220,
     "metadata": {},
     "output_type": "execute_result"
    }
   ],
   "source": [
    "rmf.predict([[0,6041,197,8,66]])[0]"
   ]
  },
  {
   "cell_type": "code",
   "execution_count": 191,
   "metadata": {
    "colab": {
     "base_uri": "https://localhost:8080/"
    },
    "executionInfo": {
     "elapsed": 599,
     "status": "ok",
     "timestamp": 1626960050365,
     "user": {
      "displayName": "RAMAKRISHNA SATLA",
      "photoUrl": "https://lh3.googleusercontent.com/a-/AOh14GijkeHKYzSfNjK58e35kmkpQSFt_uHWYIjdru_72Q=s64",
      "userId": "17543982960193299155"
     },
     "user_tz": -330
    },
    "id": "6Fi9XC5uYCCv",
    "outputId": "260e47e9-807f-4087-f019-27078780a957"
   },
   "outputs": [
    {
     "data": {
      "text/plain": [
       "array([1, 1, 0, 0, 1, 1, 1, 0, 1, 1, 1, 0, 1, 1, 0, 0, 1, 1, 1, 1, 0, 0,\n",
       "       1, 0, 1, 0, 1, 1, 1, 0, 0, 1, 0, 1, 1, 1, 0, 1, 0, 0, 1, 0, 0, 1,\n",
       "       1, 0, 1, 0, 1, 0, 0, 1, 0, 1, 1, 0, 1, 1, 1, 0, 0, 0, 1, 0, 0, 0,\n",
       "       0, 1, 0, 1, 1, 0, 1, 0, 1, 1, 0, 0, 1, 1, 0, 1, 0, 0, 1, 1, 0, 0,\n",
       "       0, 0, 0, 1, 0, 1, 0, 1, 1, 0, 0, 0, 1, 1, 1, 0, 1, 0, 0, 1, 1, 1,\n",
       "       0, 0, 0, 0, 0, 1, 0, 0, 1, 0, 1, 0, 0, 1, 0, 1, 0, 0, 0, 0, 0, 0,\n",
       "       1, 0, 1, 1, 0, 1, 1, 0, 1, 0, 1, 1, 0, 0, 1, 0, 0, 0, 0, 0, 0, 1,\n",
       "       1, 0, 0, 0, 1, 1, 1, 0, 0, 0, 0, 1, 0, 1, 0, 0, 0, 1, 1, 1, 0, 0,\n",
       "       1, 0, 0, 0, 1, 1, 1, 0, 1, 0, 1, 0, 0, 0, 1, 0, 0, 1, 0, 0, 1, 0,\n",
       "       0, 1, 0, 0, 0, 0, 0, 0, 1, 0, 0, 0, 1, 0, 0, 1, 1, 1, 1, 1, 0, 1,\n",
       "       0, 0, 1, 0, 0, 1, 1, 1, 1, 1, 0, 0, 0, 0, 1, 1, 0, 1, 1, 0, 0, 0,\n",
       "       1, 1, 1, 1, 1, 1, 0, 0, 1, 1, 0, 1, 1, 0, 0, 1, 1, 1, 0, 1, 1, 1,\n",
       "       1, 0, 1, 0, 0, 0, 1, 0, 1, 1, 1, 0, 0, 0, 0, 0, 1, 1, 0, 0, 0, 1,\n",
       "       0, 1, 1, 0, 0, 0, 0, 0, 1, 1, 0, 1, 0, 1, 1, 1, 1, 0, 1, 1, 0, 0,\n",
       "       1, 0, 0, 1, 1, 0, 0, 0, 0, 0, 1, 1, 1, 1, 0, 0, 1, 0, 1, 1, 1, 1,\n",
       "       0, 1, 1, 1, 1, 1, 0, 0, 1, 0, 1, 0, 1, 1, 0, 1, 0, 0, 0, 0, 0, 1,\n",
       "       1, 0, 1, 0, 0, 1, 0, 0, 1, 0, 1, 0, 1, 0, 0, 1, 0, 1, 0, 1, 0, 0,\n",
       "       0, 1, 0, 0, 0, 1, 1, 0, 0, 0, 0, 1, 1, 1, 1, 1, 0, 0, 0, 0, 1, 1,\n",
       "       0, 1, 1, 0, 0, 0, 0, 0, 1, 0, 0, 0, 1, 0, 1, 0, 0, 0, 0, 1, 1, 1,\n",
       "       1, 0, 0, 1, 1, 0, 1, 0, 1, 1, 0, 0, 0, 0, 0, 0, 0, 1, 0, 1, 1, 1,\n",
       "       1, 1, 0, 1, 1, 0, 1, 1, 0, 1, 0, 0, 0, 1, 1, 1, 1, 0, 1, 0, 1, 1,\n",
       "       0, 1, 1, 0, 0, 1, 0, 1, 0, 1, 0, 1, 1, 0, 1, 1, 0, 0, 0, 1, 0, 0,\n",
       "       0, 0, 1, 0, 0, 1, 1, 0, 1, 0, 0, 1, 1, 0, 0, 0, 1, 0, 1, 0, 1, 1,\n",
       "       1, 1, 1, 0, 1, 1, 0, 0, 0, 0, 0, 0, 1, 1, 1, 1, 0, 0, 0, 0, 1, 1,\n",
       "       0, 1, 1, 1, 0, 0, 0, 0, 0, 0, 1, 0, 0, 1, 0, 1, 0, 0, 0, 0, 1, 1,\n",
       "       0, 0, 1, 0, 1, 1, 1, 1, 1, 1, 0, 1, 0, 1, 1, 1, 0, 0, 0, 1, 1, 1,\n",
       "       1, 0, 1, 0, 1, 0, 1, 1, 1, 0, 1, 1, 0, 0, 1, 0, 0, 0, 1, 0, 0, 1,\n",
       "       0, 0, 0, 0, 0, 0, 1, 0, 1, 0], dtype=int64)"
      ]
     },
     "execution_count": 191,
     "metadata": {},
     "output_type": "execute_result"
    }
   ],
   "source": [
    "rmf_y_train=rmf.predict(x_train)\n",
    "rmf_y_train"
   ]
  },
  {
   "cell_type": "code",
   "execution_count": 221,
   "metadata": {},
   "outputs": [
    {
     "data": {
      "text/plain": [
       "array([[312,  14],\n",
       "       [  6, 272]], dtype=int64)"
      ]
     },
     "execution_count": 221,
     "metadata": {},
     "output_type": "execute_result"
    }
   ],
   "source": [
    "confusion_matrix(y_train, rmf_y_train)"
   ]
  },
  {
   "cell_type": "code",
   "execution_count": 222,
   "metadata": {},
   "outputs": [],
   "source": [
    "rmf_clf_acc = cross_val_score(rmf, x_train, y_train, cv=5, scoring=\"accuracy\",  n_jobs=-1)\n",
    "rmf_proba = cross_val_predict(rmf, x_train, y_train, cv=5, method='predict_proba')\n",
    "rmf_scores = rmf_proba[:, 1]"
   ]
  },
  {
   "cell_type": "code",
   "execution_count": 223,
   "metadata": {},
   "outputs": [
    {
     "data": {
      "text/plain": [
       "array([85.12396694, 82.6446281 , 85.12396694, 83.47107438, 75.83333333])"
      ]
     },
     "execution_count": 223,
     "metadata": {},
     "output_type": "execute_result"
    }
   ],
   "source": [
    "rmf_clf_acc*100"
   ]
  },
  {
   "cell_type": "code",
   "execution_count": 224,
   "metadata": {},
   "outputs": [
    {
     "data": {
      "text/plain": [
       "82.43939393939395"
      ]
     },
     "execution_count": 224,
     "metadata": {},
     "output_type": "execute_result"
    }
   ],
   "source": [
    "rmf_clf_acc.mean()*100"
   ]
  },
  {
   "cell_type": "code",
   "execution_count": 192,
   "metadata": {
    "colab": {
     "base_uri": "https://localhost:8080/"
    },
    "executionInfo": {
     "elapsed": 773,
     "status": "ok",
     "timestamp": 1626962860688,
     "user": {
      "displayName": "RAMAKRISHNA SATLA",
      "photoUrl": "https://lh3.googleusercontent.com/a-/AOh14GijkeHKYzSfNjK58e35kmkpQSFt_uHWYIjdru_72Q=s64",
      "userId": "17543982960193299155"
     },
     "user_tz": -330
    },
    "id": "O0bC7J71ikCV",
    "outputId": "56f8a713-0ffd-4d73-e262-160d28a6a512"
   },
   "outputs": [
    {
     "data": {
      "text/plain": [
       "array([0, 0, 0, 0, 1, 1, 0, 1, 1, 1, 0, 0, 0, 1, 1, 1, 0, 0, 0, 0, 1, 1,\n",
       "       0, 1, 0, 0, 0, 0, 0, 0, 1, 0, 1, 1, 1, 1, 1, 0, 1, 0, 0, 0, 1, 0,\n",
       "       1, 1, 1, 0, 1, 0, 0, 1, 1, 0, 0, 1, 0, 0, 0, 1, 0, 0, 1, 1, 0, 1,\n",
       "       1, 1], dtype=int64)"
      ]
     },
     "execution_count": 192,
     "metadata": {},
     "output_type": "execute_result"
    }
   ],
   "source": [
    "train=rmf.predict(x_test)\n",
    "train"
   ]
  },
  {
   "cell_type": "code",
   "execution_count": 193,
   "metadata": {
    "colab": {
     "base_uri": "https://localhost:8080/"
    },
    "executionInfo": {
     "elapsed": 649,
     "status": "ok",
     "timestamp": 1626962888208,
     "user": {
      "displayName": "RAMAKRISHNA SATLA",
      "photoUrl": "https://lh3.googleusercontent.com/a-/AOh14GijkeHKYzSfNjK58e35kmkpQSFt_uHWYIjdru_72Q=s64",
      "userId": "17543982960193299155"
     },
     "user_tz": -330
    },
    "id": "-hAqPK0Si2NP",
    "outputId": "faa640c9-6933-4b35-d02d-6a7c5b7f8ad1"
   },
   "outputs": [
    {
     "data": {
      "text/plain": [
       "array([[ 0.54273442, -1.43910581,  0.489271  ,  0.36458416,  2.92664889],\n",
       "       [-1.25767158, -0.24183321, -1.20766721, -0.24541261, -0.42761284],\n",
       "       [-0.65236672, -1.43910581, -0.67474446, -0.24541261,  1.24951803],\n",
       "       [-1.01893332, -1.43910581, -1.01132725, -0.85540938, -0.42761284],\n",
       "       [ 0.28519788, -0.24183321,  0.26488248, -0.24541261, -0.42761284],\n",
       "       [ 2.09312319,  0.9554394 ,  2.04596638,  1.5845777 , -0.42761284],\n",
       "       [ 0.67197264,  0.9554394 ,  0.71365953, -0.24541261, -0.42761284],\n",
       "       [ 0.04598967,  0.9554394 ,  0.02646967, -0.85540938, -0.42761284],\n",
       "       [ 1.65982266, -0.24183321,  1.61121362, -0.24541261, -0.42761284],\n",
       "       [ 0.08922573, -0.24183321,  0.05451824, -0.24541261, -0.42761284],\n",
       "       [-1.14159215,  0.9554394 , -1.13754579, -0.24541261, -0.42761284],\n",
       "       [ 0.67197264, -0.24183321,  0.69963524, -0.85540938, -0.42761284],\n",
       "       [-1.11339472, -1.43910581, -1.03937581, -0.85540938, -0.42761284],\n",
       "       [ 0.91635038,  0.9554394 ,  0.79780522,  0.36458416, -0.42761284],\n",
       "       [ 0.77066365,  0.9554394 ,  0.79780522, -0.24541261, -0.42761284],\n",
       "       [ 1.65982266, -0.24183321,  1.6252379 , -0.24541261, -0.42761284],\n",
       "       [-1.30184755, -0.24183321, -1.2918129 ,  1.5845777 , -0.42761284],\n",
       "       [ 0.91776025, -0.24183321,  0.85390235, -0.85540938, -0.42761284],\n",
       "       [-1.31641622, -1.43910581, -1.2918129 , -0.24541261, -0.42761284],\n",
       "       [-1.29056858, -0.24183321, -1.27778862,  1.5845777 , -0.42761284],\n",
       "       [ 0.28519788,  0.9554394 ,  0.26488248, -0.24541261, -0.42761284],\n",
       "       [-1.15992048, -0.24183321, -1.33388575, -0.24541261, -0.42761284],\n",
       "       [-0.3506542 , -0.24183321, -0.28206455, -0.24541261, -0.42761284],\n",
       "       [-0.53440746, -0.24183321, -0.5625502 , -0.24541261, -0.42761284],\n",
       "       [-1.30983682, -1.43910581, -1.26376434,  1.5845777 , -0.42761284],\n",
       "       [-0.06867989, -1.43910581, -0.155846  , -0.24541261,  1.24951803],\n",
       "       [-1.066399  , -1.43910581, -1.01132725, -0.85540938, -0.42761284],\n",
       "       [-1.14159215,  0.9554394 , -1.17961864, -0.24541261, -0.42761284],\n",
       "       [ 0.66492329, -0.24183321,  0.65756239, -0.85540938, -0.42761284],\n",
       "       [-1.38315015, -1.43910581, -1.36193432, -1.46540615,  2.92664889],\n",
       "       [-1.13125309,  0.9554394 , -0.98327868,  0.97458093, -0.42761284],\n",
       "       [ 0.61416791,  0.9554394 ,  0.67158668, -0.24541261, -0.42761284],\n",
       "       [ 1.41967453,  0.9554394 ,  1.40084938, -0.85540938, -0.42761284],\n",
       "       [ 1.85485489,  0.9554394 ,  1.76548073,  0.97458093,  2.92664889],\n",
       "       [ 0.80779027,  0.9554394 ,  0.76975666, -0.24541261,  1.24951803],\n",
       "       [ 0.01497249,  0.9554394 , -0.18389457,  1.5845777 , -0.42761284],\n",
       "       [ 0.45720221, -0.24183321,  0.39110102, -0.24541261, -0.42761284],\n",
       "       [ 1.44411231, -0.24183321,  1.40084938, -0.24541261, -0.42761284],\n",
       "       [ 1.57241062,  0.9554394 ,  1.34475225,  0.97458093, -0.42761284],\n",
       "       [-0.35676364, -0.24183321, -0.35218596,  0.36458416, -0.42761284],\n",
       "       [-1.02974234, -1.43910581, -0.89913299, -0.85540938, -0.42761284],\n",
       "       [-1.15146125, -1.43910581, -1.13754579, -0.85540938, -0.42761284],\n",
       "       [ 1.86190425,  0.9554394 ,  1.91974784,  0.36458416, -0.42761284],\n",
       "       [-1.04102131, -1.43910581, -0.9692544 , -0.85540938, -0.42761284],\n",
       "       [ 1.42437411,  0.9554394 ,  1.44292223,  0.97458093, -0.42761284],\n",
       "       [ 1.94273689, -0.24183321,  1.82157786,  0.36458416, -0.42761284],\n",
       "       [-0.02779361, -0.24183321,  0.02646967, -1.46540615, -0.42761284],\n",
       "       [-1.33239477, -1.43910581, -1.30583719, -1.46540615, -0.42761284],\n",
       "       [-0.02779361, -0.24183321, -0.05767602, -1.46540615, -0.42761284],\n",
       "       [-1.33239477, -1.43910581, -1.2918129 , -2.07540292, -0.42761284],\n",
       "       [-0.81685173, -1.43910581, -0.91315727,  0.97458093,  2.92664889],\n",
       "       [-1.1740192 , -0.24183321, -1.19364292, -0.24541261, -0.42761284],\n",
       "       [-0.92729167,  0.9554394 , -0.91315727,  0.36458416, -0.42761284],\n",
       "       [ 0.74105635, -1.43910581,  0.72768381,  0.97458093,  2.92664889],\n",
       "       [-1.13830245,  0.9554394 , -1.13754579,  0.36458416, -0.42761284],\n",
       "       [-1.04102131,  0.9554394 , -0.9692544 , -0.85540938, -0.42761284],\n",
       "       [ 0.08781586, -0.24183321,  0.04049396, -0.24541261,  1.24951803],\n",
       "       [-1.36153211, -1.43910581, -1.31986147, -0.24541261,  2.92664889],\n",
       "       [-0.59785168, -1.43910581, -0.59059877,  0.36458416, -0.42761284],\n",
       "       [ 1.86190425,  0.9554394 ,  1.91974784,  0.36458416, -0.42761284],\n",
       "       [-1.30983682, -1.43910581, -1.24974005,  2.19457447,  1.24951803],\n",
       "       [-0.59785168, -1.43910581, -0.59059877, -2.07540292, -0.42761284],\n",
       "       [ 2.09312319,  0.9554394 ,  2.04596638,  0.36458416, -0.42761284],\n",
       "       [ 0.30070646,  0.9554394 ,  0.30695533, -0.24541261, -0.42761284],\n",
       "       [-0.58093322,  0.9554394 , -0.75889016, -0.24541261, -0.42761284],\n",
       "       [ 0.08499611,  0.9554394 ,  0.05451824,  1.5845777 , -0.42761284],\n",
       "       [-1.16039044,  0.9554394 , -1.03937581,  0.36458416, -0.42761284],\n",
       "       [-1.01611358,  0.9554394 , -0.91315727,  0.36458416, -0.42761284]])"
      ]
     },
     "execution_count": 193,
     "metadata": {},
     "output_type": "execute_result"
    }
   ],
   "source": [
    "x_test"
   ]
  },
  {
   "cell_type": "markdown",
   "metadata": {},
   "source": [
    "# ROC Curves on Train data:"
   ]
  },
  {
   "cell_type": "code",
   "execution_count": 225,
   "metadata": {},
   "outputs": [],
   "source": [
    "from sklearn.metrics import roc_curve\n",
    "from sklearn.metrics import auc\n",
    "from sklearn.metrics import roc_auc_score\n",
    "from sklearn.metrics import accuracy_score"
   ]
  },
  {
   "cell_type": "code",
   "execution_count": 226,
   "metadata": {},
   "outputs": [],
   "source": [
    "def ROC_curve(title, y_train, scores, y_train_pred, label=None):\n",
    "    # calculate the ROC score\n",
    "    fpr, tpr, thresholds = roc_curve(y_train, scores)\n",
    "    print('AUC Score ({}): {:.2f} '.format(title, roc_auc_score(y_train, scores)*100))\n",
    "    print()\n",
    "    print('Train Accuracy : ',accuracy_score(y_train,y_train_pred)*100)\n",
    "    \n",
    "    # plot the ROC curve\n",
    "    plt.figure(figsize=(8,6))\n",
    "    plt.plot(fpr, tpr, linewidth=2, label=label, color='b')\n",
    "    plt.xlabel('False Positive Rate', fontsize=16)\n",
    "    plt.ylabel('True Positive Rate', fontsize=16)\n",
    "    plt.title('ROC Curve: {}'.format(title), fontsize=16)\n",
    "    plt.show()"
   ]
  },
  {
   "cell_type": "code",
   "execution_count": 227,
   "metadata": {},
   "outputs": [
    {
     "name": "stdout",
     "output_type": "stream",
     "text": [
      "AUC Score (Random Forest Classifier): 89.83 \n",
      "\n",
      "Train Accuracy :  96.68874172185431\n"
     ]
    },
    {
     "data": {
      "image/png": "[encoded data removed]",
      "text/plain": [
       "<Figure size 576x432 with 1 Axes>"
      ]
     },
     "metadata": {},
     "output_type": "display_data"
    }
   ],
   "source": [
    "ROC_curve('Random Forest Classifier',y_train,rmf_scores,rmf_y_train)"
   ]
  },
  {
   "cell_type": "markdown",
   "metadata": {},
   "source": [
    "# Observations :"
   ]
  },
  {
   "cell_type": "markdown",
   "metadata": {},
   "source": [
    "WE USED Random Forest Classifier\n",
    "\n",
    "On this traindata, Random Forest Classifer gives more accuracy and ROC score"
   ]
  },
  {
   "cell_type": "markdown",
   "metadata": {},
   "source": [
    "# Testing Model"
   ]
  },
  {
   "cell_type": "code",
   "execution_count": 228,
   "metadata": {},
   "outputs": [],
   "source": [
    "rmf=pickle.load(open('random.pkl','rb'))"
   ]
  },
  {
   "cell_type": "code",
   "execution_count": 229,
   "metadata": {},
   "outputs": [
    {
     "data": {
      "text/plain": [
       "85.29411764705883"
      ]
     },
     "execution_count": 229,
     "metadata": {},
     "output_type": "execute_result"
    }
   ],
   "source": [
    "rmf.score(x_test,y_test)*100"
   ]
  },
  {
   "cell_type": "code",
   "execution_count": 230,
   "metadata": {},
   "outputs": [
    {
     "data": {
      "text/plain": [
       "array([0, 0, 0, 0, 1, 1, 0, 1, 1, 1, 0, 0, 0, 1, 1, 1, 0, 0, 0, 0, 1, 1,\n",
       "       0, 1, 0, 0, 0, 0, 0, 0, 1, 0, 1, 1, 1, 1, 1, 0, 1, 0, 0, 0, 1, 0,\n",
       "       1, 1, 1, 0, 1, 0, 0, 1, 1, 0, 0, 1, 0, 0, 0, 1, 0, 0, 1, 1, 0, 1,\n",
       "       1, 1], dtype=int64)"
      ]
     },
     "execution_count": 230,
     "metadata": {},
     "output_type": "execute_result"
    }
   ],
   "source": [
    "rmf_y_test=rmf.predict(x_test)\n",
    "rmf_y_test"
   ]
  },
  {
   "cell_type": "code",
   "execution_count": 231,
   "metadata": {},
   "outputs": [
    {
     "data": {
      "text/plain": [
       "array([[32,  6],\n",
       "       [ 4, 26]], dtype=int64)"
      ]
     },
     "execution_count": 231,
     "metadata": {},
     "output_type": "execute_result"
    }
   ],
   "source": [
    "confusion_matrix(y_test, rmf_y_test)"
   ]
  },
  {
   "cell_type": "code",
   "execution_count": 232,
   "metadata": {},
   "outputs": [],
   "source": [
    "rmf_clf_acc = cross_val_score(rmf, x_test, y_test, cv=3, scoring=\"accuracy\",  n_jobs=-1)\n",
    "rmf_proba = cross_val_predict(rmf, x_test, y_test, cv=3, method='predict_proba')\n",
    "rmf_scores = rmf_proba[:, 1]"
   ]
  },
  {
   "cell_type": "code",
   "execution_count": 233,
   "metadata": {},
   "outputs": [
    {
     "data": {
      "text/plain": [
       "array([78.26086957, 69.56521739, 68.18181818])"
      ]
     },
     "execution_count": 233,
     "metadata": {},
     "output_type": "execute_result"
    }
   ],
   "source": [
    "rmf_clf_acc*100"
   ]
  },
  {
   "cell_type": "code",
   "execution_count": 234,
   "metadata": {},
   "outputs": [
    {
     "data": {
      "text/plain": [
       "72.0026350461133"
      ]
     },
     "execution_count": 234,
     "metadata": {},
     "output_type": "execute_result"
    }
   ],
   "source": [
    "rmf_clf_acc.mean()*100"
   ]
  },
  {
   "cell_type": "markdown",
   "metadata": {},
   "source": [
    "# Evaluation :"
   ]
  },
  {
   "cell_type": "code",
   "execution_count": 235,
   "metadata": {},
   "outputs": [],
   "source": [
    "from sklearn.metrics import accuracy_score, f1_score, precision_score, recall_score, classification_report, confusion_matrix"
   ]
  },
  {
   "cell_type": "code",
   "execution_count": 236,
   "metadata": {},
   "outputs": [
    {
     "name": "stdout",
     "output_type": "stream",
     "text": [
      "\n",
      "Accuracy score: 85.294118\n",
      "\n",
      "ROC score : 85.438596\n",
      "\n",
      "Precision score : 81.250000\n",
      "\n",
      "Recall score : 86.666667\n",
      "\n",
      "Confusion matrix :\n",
      "[[32  6]\n",
      " [ 4 26]]\n"
     ]
    }
   ],
   "source": [
    "print(\"\\nAccuracy score: %f\\n\" %(accuracy_score(y_test,rmf_y_test) * 100))\n",
    "print(\"ROC score : %f\\n\" %(roc_auc_score(y_test, rmf_y_test) * 100))\n",
    "print(\"Precision score : %f\\n\" %(precision_score(y_test, rmf_y_test) * 100))\n",
    "print(\"Recall score : %f\\n\" %(recall_score(y_test, rmf_y_test) * 100))\n",
    "print(\"Confusion matrix :\")\n",
    "print(confusion_matrix(y_test, rmf_y_test))"
   ]
  },
  {
   "cell_type": "markdown",
   "metadata": {},
   "source": [
    "# ROC Curves on Test data :"
   ]
  },
  {
   "cell_type": "code",
   "execution_count": 237,
   "metadata": {},
   "outputs": [],
   "source": [
    "def ROC_curve(title, y_test, scores, y_test_pred, label=None):\n",
    "    # calculate the ROC score\n",
    "    fpr, tpr, thresholds = roc_curve(y_test, scores)\n",
    "    print('AUC Score ({}): {:.2f} '.format(title, roc_auc_score(y_test, scores)*100))\n",
    "    print()\n",
    "    print('Test Accuracy : ',accuracy_score(y_test,y_test_pred)*100)\n",
    "    \n",
    "    # plot the ROC curve\n",
    "    plt.figure(figsize=(8,6))\n",
    "    plt.plot(fpr, tpr, linewidth=2, label=label, color='b')\n",
    "    plt.xlabel('False Positive Rate', fontsize=16)\n",
    "    plt.ylabel('True Positive Rate', fontsize=16)\n",
    "    plt.title('ROC Curve: {}'.format(title), fontsize=16)\n",
    "    plt.show()"
   ]
  },
  {
   "cell_type": "code",
   "execution_count": 238,
   "metadata": {},
   "outputs": [
    {
     "name": "stdout",
     "output_type": "stream",
     "text": [
      "AUC Score (Random Forest Classifier): 80.83 \n",
      "\n",
      "Test Accuracy :  85.29411764705883\n"
     ]
    },
    {
     "data": {
      "image/png": "[encoded data removed]",
      "text/plain": [
       "<Figure size 576x432 with 1 Axes>"
      ]
     },
     "metadata": {},
     "output_type": "display_data"
    }
   ],
   "source": [
    "ROC_curve('Random Forest Classifier',y_test,rmf_scores,rmf_y_test)"
   ]
  },
  {
   "cell_type": "markdown",
   "metadata": {},
   "source": [
    "# Observations :"
   ]
  },
  {
   "cell_type": "raw",
   "metadata": {},
   "source": [
    "we used RandomForestClassification on Testingdata\n",
    "\n",
    "On this test data, RandomForestClassifier gives more accuracy and good ROC scor"
   ]
  },
  {
   "cell_type": "markdown",
   "metadata": {},
   "source": [
    "# Predicting new values :"
   ]
  },
  {
   "cell_type": "code",
   "execution_count": 209,
   "metadata": {
    "colab": {
     "base_uri": "https://localhost:8080/"
    },
    "executionInfo": {
     "elapsed": 2000,
     "status": "ok",
     "timestamp": 1626962247365,
     "user": {
      "displayName": "RAMAKRISHNA SATLA",
      "photoUrl": "https://lh3.googleusercontent.com/a-/AOh14GijkeHKYzSfNjK58e35kmkpQSFt_uHWYIjdru_72Q=s64",
      "userId": "17543982960193299155"
     },
     "user_tz": -330
    },
    "id": "-m99T9bsY84E",
    "outputId": "8a95108f-3662-4fc6-c1ab-e7e7368f3ed5"
   },
   "outputs": [
    {
     "name": "stdout",
     "output_type": "stream",
     "text": [
      "[1]\n",
      "Active\n"
     ]
    }
   ],
   "source": [
    "input_data = (0,0,0,0,0)\n",
    "\n",
    "# changing the input data to a numpy array\n",
    "input_data_as_numpy_array = np.asarray(input_data)\n",
    "\n",
    "# reshape the data as we are predicting the label for only one instance\n",
    "input_data_reshaped = input_data_as_numpy_array.reshape(1,-1)\n",
    "\n",
    "prediction = rmf.predict(input_data_reshaped)\n",
    "print(prediction)\n",
    "\n",
    "if (prediction[0]==1):\n",
    "  print('Active')\n",
    "else:\n",
    "  print('Inactive')"
   ]
  },
  {
   "cell_type": "code",
   "execution_count": 210,
   "metadata": {
    "executionInfo": {
     "elapsed": 699,
     "status": "ok",
     "timestamp": 1626960762431,
     "user": {
      "displayName": "RAMAKRISHNA SATLA",
      "photoUrl": "https://lh3.googleusercontent.com/a-/AOh14GijkeHKYzSfNjK58e35kmkpQSFt_uHWYIjdru_72Q=s64",
      "userId": "17543982960193299155"
     },
     "user_tz": -330
    },
    "id": "u2XyhviEag11"
   },
   "outputs": [],
   "source": [
    "import pickle\n",
    "with open('random.pkl','wb') as f:\n",
    "    pickle.dump(rmf,f)"
   ]
  },
  {
   "cell_type": "code",
   "execution_count": 211,
   "metadata": {
    "colab": {
     "base_uri": "https://localhost:8080/"
    },
    "executionInfo": {
     "elapsed": 615,
     "status": "ok",
     "timestamp": 1626962210342,
     "user": {
      "displayName": "RAMAKRISHNA SATLA",
      "photoUrl": "https://lh3.googleusercontent.com/a-/AOh14GijkeHKYzSfNjK58e35kmkpQSFt_uHWYIjdru_72Q=s64",
      "userId": "17543982960193299155"
     },
     "user_tz": -330
    },
    "id": "ft_DVOuAayuj",
    "outputId": "b1293f9d-0c51-4379-e3c2-04354647a664"
   },
   "outputs": [
    {
     "data": {
      "text/plain": [
       "1"
      ]
     },
     "execution_count": 211,
     "metadata": {},
     "output_type": "execute_result"
    }
   ],
   "source": [
    "rnd_model = pickle.load(open('random.pkl','rb'))\n",
    "rnd_model.predict([[0,0,0,0,0]])[0]"
   ]
  },
  {
   "cell_type": "code",
   "execution_count": null,
   "metadata": {},
   "outputs": [],
   "source": []
  }
 ],
 "metadata": {
  "colab": {
   "authorship_tag": "ABX9TyP93uB8LqiBoQl8vSgM29gU",
   "name": "deepacode.ipynb",
   "provenance": []
  },
  "kernelspec": {
   "display_name": "Python 3",
   "language": "python",
   "name": "python3"
  },
  "language_info": {
   "codemirror_mode": {
    "name": "ipython",
    "version": 3
   },
   "file_extension": ".py",
   "mimetype": "text/x-python",
   "name": "python",
   "nbconvert_exporter": "python",
   "pygments_lexer": "ipython3",
   "version": "3.8.8"
  }
 },
 "nbformat": 4,
 "nbformat_minor": 1
}
